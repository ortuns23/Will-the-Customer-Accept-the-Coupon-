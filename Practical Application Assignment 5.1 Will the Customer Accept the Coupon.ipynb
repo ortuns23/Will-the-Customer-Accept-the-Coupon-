{
 "cells": [
  {
   "cell_type": "markdown",
   "metadata": {},
   "source": [
    "### Will a Customer Accept the Coupon?\n",
    "\n",
    "**Context**\n",
    "\n",
    "Imagine driving through town and a coupon is delivered to your cell phone for a restaraunt near where you are driving. Would you accept that coupon and take a short detour to the restaraunt? Would you accept the coupon but use it on a sunbsequent trip? Would you ignore the coupon entirely? What if the coupon was for a bar instead of a restaraunt? What about a coffee house? Would you accept a bar coupon with a minor passenger in the car? What about if it was just you and your partner in the car? Would weather impact the rate of acceptance? What about the time of day?\n",
    "\n",
    "Obviously, proximity to the business is a factor on whether the coupon is delivered to the driver or not, but what are the factors that determine whether a driver accepts the coupon once it is delivered to them? How would you determine whether a driver is likely to accept a coupon?\n",
    "\n",
    "**Overview**\n",
    "\n",
    "The goal of this project is to use what you know about visualizations and probability distributions to distinguish between customers who accepted a driving coupon versus those that did not.\n",
    "\n",
    "**Data**\n",
    "\n",
    "This data comes to us from the UCI Machine Learning repository and was collected via a survey on Amazon Mechanical Turk. The survey describes different driving scenarios including the destination, current time, weather, passenger, etc., and then ask the person whether he will accept the coupon if he is the driver. Answers that the user will drive there ‘right away’ or ‘later before the coupon expires’ are labeled as ‘Y = 1’ and answers ‘no, I do not want the coupon’ are labeled as ‘Y = 0’.  There are five different types of coupons -- less expensive restaurants (under \\\\$20), coffee houses, carry out & take away, bar, and more expensive restaurants (\\\\$20 - \\\\$50). "
   ]
  },
  {
   "cell_type": "markdown",
   "metadata": {},
   "source": [
    "**Deliverables**\n",
    "\n",
    "Your final product should be a brief report that highlights the differences between customers who did and did not accept the coupons.  To explore the data you will utilize your knowledge of plotting, statistical summaries, and visualization using Python. You will publish your findings in a public facing github repository as your first portfolio piece. \n",
    "\n",
    "\n",
    "\n"
   ]
  },
  {
   "cell_type": "markdown",
   "metadata": {},
   "source": [
    "### Data Description\n",
    "Keep in mind that these values mentioned below are average values.\n",
    "\n",
    "The attributes of this data set include:\n",
    "1. User attributes\n",
    "    -  Gender: male, female\n",
    "    -  Age: below 21, 21 to 25, 26 to 30, etc.\n",
    "    -  Marital Status: single, married partner, unmarried partner, or widowed\n",
    "    -  Number of children: 0, 1, or more than 1\n",
    "    -  Education: high school, bachelors degree, associates degree, or graduate degree\n",
    "    -  Occupation: architecture & engineering, business & financial, etc.\n",
    "    -  Annual income: less than \\\\$12500, \\\\$12500 - \\\\$24999, \\\\$25000 - \\\\$37499, etc.\n",
    "    -  Number of times that he/she goes to a bar: 0, less than 1, 1 to 3, 4 to 8 or greater than 8\n",
    "    -  Number of times that he/she buys takeaway food: 0, less than 1, 1 to 3, 4 to 8 or greater\n",
    "    than 8\n",
    "    -  Number of times that he/she goes to a coffee house: 0, less than 1, 1 to 3, 4 to 8 or\n",
    "    greater than 8\n",
    "    -  Number of times that he/she eats at a restaurant with average expense less than \\\\$20 per\n",
    "    person: 0, less than 1, 1 to 3, 4 to 8 or greater than 8\n",
    "    -  Number of times that he/she goes to a bar: 0, less than 1, 1 to 3, 4 to 8 or greater than 8\n",
    "    \n",
    "\n",
    "2. Contextual attributes\n",
    "    - Driving destination: home, work, or no urgent destination\n",
    "    - Location of user, coupon and destination: we provide a map to show the geographical\n",
    "    location of the user, destination, and the venue, and we mark the distance between each\n",
    "    two places with time of driving. The user can see whether the venue is in the same\n",
    "    direction as the destination.\n",
    "    - Weather: sunny, rainy, or snowy\n",
    "    - Temperature: 30F, 55F, or 80F\n",
    "    - Time: 10AM, 2PM, or 6PM\n",
    "    - Passenger: alone, partner, kid(s), or friend(s)\n",
    "\n",
    "\n",
    "3. Coupon attributes\n",
    "    - time before it expires: 2 hours or one day"
   ]
  },
  {
   "cell_type": "code",
   "execution_count": 1,
   "metadata": {},
   "outputs": [
    {
     "name": "stdout",
     "output_type": "stream",
     "text": [
      "Requirement already satisfied: pandas in c:\\users\\alvaro\\anaconda3\\lib\\site-packages (2.2.2)\n",
      "Requirement already satisfied: numpy in c:\\users\\alvaro\\anaconda3\\lib\\site-packages (2.0.0)\n",
      "Requirement already satisfied: seaborn in c:\\users\\alvaro\\anaconda3\\lib\\site-packages (0.11.2)\n",
      "Requirement already satisfied: matplotlib in c:\\users\\alvaro\\anaconda3\\lib\\site-packages (3.9.1)\n",
      "Requirement already satisfied: python-dateutil>=2.8.2 in c:\\users\\alvaro\\anaconda3\\lib\\site-packages (from pandas) (2.9.0.post0)\n",
      "Requirement already satisfied: pytz>=2020.1 in c:\\users\\alvaro\\anaconda3\\lib\\site-packages (from pandas) (2024.1)\n",
      "Requirement already satisfied: tzdata>=2022.7 in c:\\users\\alvaro\\anaconda3\\lib\\site-packages (from pandas) (2023.3)\n",
      "Requirement already satisfied: scipy>=1.0 in c:\\users\\alvaro\\anaconda3\\lib\\site-packages (from seaborn) (1.13.0)\n",
      "Requirement already satisfied: contourpy>=1.0.1 in c:\\users\\alvaro\\anaconda3\\lib\\site-packages (from matplotlib) (1.2.1)\n",
      "Requirement already satisfied: cycler>=0.10 in c:\\users\\alvaro\\anaconda3\\lib\\site-packages (from matplotlib) (0.12.1)\n",
      "Requirement already satisfied: fonttools>=4.22.0 in c:\\users\\alvaro\\anaconda3\\lib\\site-packages (from matplotlib) (4.51.0)\n",
      "Requirement already satisfied: kiwisolver>=1.3.1 in c:\\users\\alvaro\\anaconda3\\lib\\site-packages (from matplotlib) (1.4.5)\n",
      "Requirement already satisfied: packaging>=20.0 in c:\\users\\alvaro\\anaconda3\\lib\\site-packages (from matplotlib) (24.0)\n",
      "Requirement already satisfied: pillow>=8 in c:\\users\\alvaro\\anaconda3\\lib\\site-packages (from matplotlib) (10.3.0)\n",
      "Requirement already satisfied: pyparsing>=2.3.1 in c:\\users\\alvaro\\anaconda3\\lib\\site-packages (from matplotlib) (3.1.2)\n",
      "Requirement already satisfied: importlib-resources>=3.2.0 in c:\\users\\alvaro\\anaconda3\\lib\\site-packages (from matplotlib) (6.4.0)\n",
      "Requirement already satisfied: zipp>=3.1.0 in c:\\users\\alvaro\\anaconda3\\lib\\site-packages (from importlib-resources>=3.2.0->matplotlib) (3.18.2)\n",
      "Requirement already satisfied: six>=1.5 in c:\\users\\alvaro\\anaconda3\\lib\\site-packages (from python-dateutil>=2.8.2->pandas) (1.16.0)\n",
      "Note: you may need to restart the kernel to use updated packages.\n"
     ]
    },
    {
     "name": "stderr",
     "output_type": "stream",
     "text": [
      "WARNING: Ignoring invalid distribution - (c:\\users\\alvaro\\anaconda3\\lib\\site-packages)\n",
      "WARNING: Ignoring invalid distribution -atplotlib (c:\\users\\alvaro\\anaconda3\\lib\\site-packages)\n",
      "WARNING: Ignoring invalid distribution -ensorflow-intel (c:\\users\\alvaro\\anaconda3\\lib\\site-packages)\n",
      "WARNING: Ignoring invalid distribution -illow (c:\\users\\alvaro\\anaconda3\\lib\\site-packages)\n",
      "WARNING: Ignoring invalid distribution - (c:\\users\\alvaro\\anaconda3\\lib\\site-packages)\n",
      "WARNING: Ignoring invalid distribution -atplotlib (c:\\users\\alvaro\\anaconda3\\lib\\site-packages)\n",
      "WARNING: Ignoring invalid distribution -ensorflow-intel (c:\\users\\alvaro\\anaconda3\\lib\\site-packages)\n",
      "WARNING: Ignoring invalid distribution -illow (c:\\users\\alvaro\\anaconda3\\lib\\site-packages)\n",
      "\n",
      "[notice] A new release of pip is available: 23.1.2 -> 24.1.2\n",
      "[notice] To update, run: python.exe -m pip install --upgrade pip\n"
     ]
    }
   ],
   "source": [
    "pip install pandas numpy seaborn matplotlib"
   ]
  },
  {
   "cell_type": "code",
   "execution_count": null,
   "metadata": {},
   "outputs": [],
   "source": []
  },
  {
   "cell_type": "code",
   "execution_count": 2,
   "metadata": {},
   "outputs": [
    {
     "name": "stderr",
     "output_type": "stream",
     "text": [
      "\n",
      "A module that was compiled using NumPy 1.x cannot be run in\n",
      "NumPy 2.0.0 as it may crash. To support both 1.x and 2.x\n",
      "versions of NumPy, modules must be compiled with NumPy 2.0.\n",
      "Some module may need to rebuild instead e.g. with 'pybind11>=2.12'.\n",
      "\n",
      "If you are a user of the module, the easiest solution will be to\n",
      "downgrade to 'numpy<2' or try to upgrade the affected module.\n",
      "We expect that some modules will need time to support NumPy 2.\n",
      "\n",
      "Traceback (most recent call last):  File \"C:\\Users\\Alvaro\\anaconda3\\lib\\runpy.py\", line 197, in _run_module_as_main\n",
      "    return _run_code(code, main_globals, None,\n",
      "  File \"C:\\Users\\Alvaro\\anaconda3\\lib\\runpy.py\", line 87, in _run_code\n",
      "    exec(code, run_globals)\n",
      "  File \"C:\\Users\\Alvaro\\anaconda3\\lib\\site-packages\\ipykernel_launcher.py\", line 17, in <module>\n",
      "    app.launch_new_instance()\n",
      "  File \"C:\\Users\\Alvaro\\anaconda3\\lib\\site-packages\\traitlets\\config\\application.py\", line 846, in launch_instance\n",
      "    app.start()\n",
      "  File \"C:\\Users\\Alvaro\\anaconda3\\lib\\site-packages\\ipykernel\\kernelapp.py\", line 712, in start\n",
      "    self.io_loop.start()\n",
      "  File \"C:\\Users\\Alvaro\\anaconda3\\lib\\site-packages\\tornado\\platform\\asyncio.py\", line 199, in start\n",
      "    self.asyncio_loop.run_forever()\n",
      "  File \"C:\\Users\\Alvaro\\anaconda3\\lib\\asyncio\\base_events.py\", line 601, in run_forever\n",
      "    self._run_once()\n",
      "  File \"C:\\Users\\Alvaro\\anaconda3\\lib\\asyncio\\base_events.py\", line 1905, in _run_once\n",
      "    handle._run()\n",
      "  File \"C:\\Users\\Alvaro\\anaconda3\\lib\\asyncio\\events.py\", line 80, in _run\n",
      "    self._context.run(self._callback, *self._args)\n",
      "  File \"C:\\Users\\Alvaro\\anaconda3\\lib\\site-packages\\ipykernel\\kernelbase.py\", line 510, in dispatch_queue\n",
      "    await self.process_one()\n",
      "  File \"C:\\Users\\Alvaro\\anaconda3\\lib\\site-packages\\ipykernel\\kernelbase.py\", line 499, in process_one\n",
      "    await dispatch(*args)\n",
      "  File \"C:\\Users\\Alvaro\\anaconda3\\lib\\site-packages\\ipykernel\\kernelbase.py\", line 406, in dispatch_shell\n",
      "    await result\n",
      "  File \"C:\\Users\\Alvaro\\anaconda3\\lib\\site-packages\\ipykernel\\kernelbase.py\", line 730, in execute_request\n",
      "    reply_content = await reply_content\n",
      "  File \"C:\\Users\\Alvaro\\anaconda3\\lib\\site-packages\\ipykernel\\ipkernel.py\", line 390, in do_execute\n",
      "    res = shell.run_cell(code, store_history=store_history, silent=silent)\n",
      "  File \"C:\\Users\\Alvaro\\anaconda3\\lib\\site-packages\\ipykernel\\zmqshell.py\", line 528, in run_cell\n",
      "    return super().run_cell(*args, **kwargs)\n",
      "  File \"C:\\Users\\Alvaro\\anaconda3\\lib\\site-packages\\IPython\\core\\interactiveshell.py\", line 2914, in run_cell\n",
      "    result = self._run_cell(\n",
      "  File \"C:\\Users\\Alvaro\\anaconda3\\lib\\site-packages\\IPython\\core\\interactiveshell.py\", line 2960, in _run_cell\n",
      "    return runner(coro)\n",
      "  File \"C:\\Users\\Alvaro\\anaconda3\\lib\\site-packages\\IPython\\core\\async_helpers.py\", line 78, in _pseudo_sync_runner\n",
      "    coro.send(None)\n",
      "  File \"C:\\Users\\Alvaro\\anaconda3\\lib\\site-packages\\IPython\\core\\interactiveshell.py\", line 3185, in run_cell_async\n",
      "    has_raised = await self.run_ast_nodes(code_ast.body, cell_name,\n",
      "  File \"C:\\Users\\Alvaro\\anaconda3\\lib\\site-packages\\IPython\\core\\interactiveshell.py\", line 3377, in run_ast_nodes\n",
      "    if (await self.run_code(code, result,  async_=asy)):\n",
      "  File \"C:\\Users\\Alvaro\\anaconda3\\lib\\site-packages\\IPython\\core\\interactiveshell.py\", line 3457, in run_code\n",
      "    exec(code_obj, self.user_global_ns, self.user_ns)\n",
      "  File \"C:\\Users\\Alvaro\\AppData\\Local\\Temp\\ipykernel_984\\4080736814.py\", line 1, in <module>\n",
      "    import pandas as pd\n",
      "  File \"C:\\Users\\Alvaro\\anaconda3\\lib\\site-packages\\pandas\\__init__.py\", line 54, in <module>\n",
      "    from pandas.compat import (\n",
      "  File \"C:\\Users\\Alvaro\\anaconda3\\lib\\site-packages\\pandas\\compat\\__init__.py\", line 27, in <module>\n",
      "    from pandas.compat.pyarrow import (\n",
      "  File \"C:\\Users\\Alvaro\\anaconda3\\lib\\site-packages\\pandas\\compat\\pyarrow.py\", line 8, in <module>\n",
      "    import pyarrow as pa\n",
      "  File \"C:\\Users\\Alvaro\\anaconda3\\lib\\site-packages\\pyarrow\\__init__.py\", line 65, in <module>\n",
      "    import pyarrow.lib as _lib\n"
     ]
    },
    {
     "ename": "AttributeError",
     "evalue": "_ARRAY_API not found",
     "output_type": "error",
     "traceback": [
      "\u001b[1;31m---------------------------------------------------------------------------\u001b[0m",
      "\u001b[1;31mAttributeError\u001b[0m                            Traceback (most recent call last)",
      "\u001b[1;31mAttributeError\u001b[0m: _ARRAY_API not found"
     ]
    },
    {
     "name": "stderr",
     "output_type": "stream",
     "text": [
      "\n",
      "A module that was compiled using NumPy 1.x cannot be run in\n",
      "NumPy 2.0.0 as it may crash. To support both 1.x and 2.x\n",
      "versions of NumPy, modules must be compiled with NumPy 2.0.\n",
      "Some module may need to rebuild instead e.g. with 'pybind11>=2.12'.\n",
      "\n",
      "If you are a user of the module, the easiest solution will be to\n",
      "downgrade to 'numpy<2' or try to upgrade the affected module.\n",
      "We expect that some modules will need time to support NumPy 2.\n",
      "\n",
      "Traceback (most recent call last):  File \"C:\\Users\\Alvaro\\anaconda3\\lib\\runpy.py\", line 197, in _run_module_as_main\n",
      "    return _run_code(code, main_globals, None,\n",
      "  File \"C:\\Users\\Alvaro\\anaconda3\\lib\\runpy.py\", line 87, in _run_code\n",
      "    exec(code, run_globals)\n",
      "  File \"C:\\Users\\Alvaro\\anaconda3\\lib\\site-packages\\ipykernel_launcher.py\", line 17, in <module>\n",
      "    app.launch_new_instance()\n",
      "  File \"C:\\Users\\Alvaro\\anaconda3\\lib\\site-packages\\traitlets\\config\\application.py\", line 846, in launch_instance\n",
      "    app.start()\n",
      "  File \"C:\\Users\\Alvaro\\anaconda3\\lib\\site-packages\\ipykernel\\kernelapp.py\", line 712, in start\n",
      "    self.io_loop.start()\n",
      "  File \"C:\\Users\\Alvaro\\anaconda3\\lib\\site-packages\\tornado\\platform\\asyncio.py\", line 199, in start\n",
      "    self.asyncio_loop.run_forever()\n",
      "  File \"C:\\Users\\Alvaro\\anaconda3\\lib\\asyncio\\base_events.py\", line 601, in run_forever\n",
      "    self._run_once()\n",
      "  File \"C:\\Users\\Alvaro\\anaconda3\\lib\\asyncio\\base_events.py\", line 1905, in _run_once\n",
      "    handle._run()\n",
      "  File \"C:\\Users\\Alvaro\\anaconda3\\lib\\asyncio\\events.py\", line 80, in _run\n",
      "    self._context.run(self._callback, *self._args)\n",
      "  File \"C:\\Users\\Alvaro\\anaconda3\\lib\\site-packages\\ipykernel\\kernelbase.py\", line 510, in dispatch_queue\n",
      "    await self.process_one()\n",
      "  File \"C:\\Users\\Alvaro\\anaconda3\\lib\\site-packages\\ipykernel\\kernelbase.py\", line 499, in process_one\n",
      "    await dispatch(*args)\n",
      "  File \"C:\\Users\\Alvaro\\anaconda3\\lib\\site-packages\\ipykernel\\kernelbase.py\", line 406, in dispatch_shell\n",
      "    await result\n",
      "  File \"C:\\Users\\Alvaro\\anaconda3\\lib\\site-packages\\ipykernel\\kernelbase.py\", line 730, in execute_request\n",
      "    reply_content = await reply_content\n",
      "  File \"C:\\Users\\Alvaro\\anaconda3\\lib\\site-packages\\ipykernel\\ipkernel.py\", line 390, in do_execute\n",
      "    res = shell.run_cell(code, store_history=store_history, silent=silent)\n",
      "  File \"C:\\Users\\Alvaro\\anaconda3\\lib\\site-packages\\ipykernel\\zmqshell.py\", line 528, in run_cell\n",
      "    return super().run_cell(*args, **kwargs)\n",
      "  File \"C:\\Users\\Alvaro\\anaconda3\\lib\\site-packages\\IPython\\core\\interactiveshell.py\", line 2914, in run_cell\n",
      "    result = self._run_cell(\n",
      "  File \"C:\\Users\\Alvaro\\anaconda3\\lib\\site-packages\\IPython\\core\\interactiveshell.py\", line 2960, in _run_cell\n",
      "    return runner(coro)\n",
      "  File \"C:\\Users\\Alvaro\\anaconda3\\lib\\site-packages\\IPython\\core\\async_helpers.py\", line 78, in _pseudo_sync_runner\n",
      "    coro.send(None)\n",
      "  File \"C:\\Users\\Alvaro\\anaconda3\\lib\\site-packages\\IPython\\core\\interactiveshell.py\", line 3185, in run_cell_async\n",
      "    has_raised = await self.run_ast_nodes(code_ast.body, cell_name,\n",
      "  File \"C:\\Users\\Alvaro\\anaconda3\\lib\\site-packages\\IPython\\core\\interactiveshell.py\", line 3377, in run_ast_nodes\n",
      "    if (await self.run_code(code, result,  async_=asy)):\n",
      "  File \"C:\\Users\\Alvaro\\anaconda3\\lib\\site-packages\\IPython\\core\\interactiveshell.py\", line 3457, in run_code\n",
      "    exec(code_obj, self.user_global_ns, self.user_ns)\n",
      "  File \"C:\\Users\\Alvaro\\AppData\\Local\\Temp\\ipykernel_984\\4080736814.py\", line 1, in <module>\n",
      "    import pandas as pd\n",
      "  File \"C:\\Users\\Alvaro\\anaconda3\\lib\\site-packages\\pandas\\__init__.py\", line 77, in <module>\n",
      "    from pandas.core.api import (\n",
      "  File \"C:\\Users\\Alvaro\\anaconda3\\lib\\site-packages\\pandas\\core\\api.py\", line 9, in <module>\n",
      "    from pandas.core.dtypes.dtypes import (\n",
      "  File \"C:\\Users\\Alvaro\\anaconda3\\lib\\site-packages\\pandas\\core\\dtypes\\dtypes.py\", line 24, in <module>\n",
      "    from pandas._libs import (\n",
      "  File \"C:\\Users\\Alvaro\\anaconda3\\lib\\site-packages\\pyarrow\\__init__.py\", line 65, in <module>\n",
      "    import pyarrow.lib as _lib\n"
     ]
    },
    {
     "ename": "AttributeError",
     "evalue": "_ARRAY_API not found",
     "output_type": "error",
     "traceback": [
      "\u001b[1;31m---------------------------------------------------------------------------\u001b[0m",
      "\u001b[1;31mAttributeError\u001b[0m                            Traceback (most recent call last)",
      "\u001b[1;31mAttributeError\u001b[0m: _ARRAY_API not found"
     ]
    }
   ],
   "source": [
    "import pandas as pd"
   ]
  },
  {
   "cell_type": "code",
   "execution_count": null,
   "metadata": {},
   "outputs": [],
   "source": []
  },
  {
   "cell_type": "code",
   "execution_count": null,
   "metadata": {},
   "outputs": [],
   "source": []
  },
  {
   "cell_type": "markdown",
   "metadata": {},
   "source": [
    "### Problems\n",
    "\n",
    "Use the prompts below to get started with your data analysis.  \n",
    "\n",
    "1. Read in the `coupons.csv` file.\n",
    "\n",
    "\n"
   ]
  },
  {
   "cell_type": "code",
   "execution_count": 37,
   "metadata": {},
   "outputs": [],
   "source": [
    "import pandas as pd\n",
    "\n",
    "# Ruta completa al archivo en tu sistema\n",
    "file_path = r'C:\\Users\\Alvaro\\Desktop\\Modulos Berkeley\\Modulo 5\\assignment_5_1_starter\\data\\coupons.csv'\n",
    "\n",
    "# Leer el archivo usando la ruta completa\n",
    "df = pd.read_csv(file_path)"
   ]
  },
  {
   "cell_type": "code",
   "execution_count": 38,
   "metadata": {},
   "outputs": [
    {
     "data": {
      "text/html": [
       "<div>\n",
       "<style scoped>\n",
       "    .dataframe tbody tr th:only-of-type {\n",
       "        vertical-align: middle;\n",
       "    }\n",
       "\n",
       "    .dataframe tbody tr th {\n",
       "        vertical-align: top;\n",
       "    }\n",
       "\n",
       "    .dataframe thead th {\n",
       "        text-align: right;\n",
       "    }\n",
       "</style>\n",
       "<table border=\"1\" class=\"dataframe\">\n",
       "  <thead>\n",
       "    <tr style=\"text-align: right;\">\n",
       "      <th></th>\n",
       "      <th>destination</th>\n",
       "      <th>passanger</th>\n",
       "      <th>weather</th>\n",
       "      <th>temperature</th>\n",
       "      <th>time</th>\n",
       "      <th>coupon</th>\n",
       "      <th>expiration</th>\n",
       "      <th>gender</th>\n",
       "      <th>age</th>\n",
       "      <th>maritalStatus</th>\n",
       "      <th>...</th>\n",
       "      <th>CoffeeHouse</th>\n",
       "      <th>CarryAway</th>\n",
       "      <th>RestaurantLessThan20</th>\n",
       "      <th>Restaurant20To50</th>\n",
       "      <th>toCoupon_GEQ5min</th>\n",
       "      <th>toCoupon_GEQ15min</th>\n",
       "      <th>toCoupon_GEQ25min</th>\n",
       "      <th>direction_same</th>\n",
       "      <th>direction_opp</th>\n",
       "      <th>Y</th>\n",
       "    </tr>\n",
       "  </thead>\n",
       "  <tbody>\n",
       "    <tr>\n",
       "      <th>0</th>\n",
       "      <td>No Urgent Place</td>\n",
       "      <td>Alone</td>\n",
       "      <td>Sunny</td>\n",
       "      <td>55</td>\n",
       "      <td>2PM</td>\n",
       "      <td>Restaurant(&lt;20)</td>\n",
       "      <td>1d</td>\n",
       "      <td>Female</td>\n",
       "      <td>21</td>\n",
       "      <td>Unmarried partner</td>\n",
       "      <td>...</td>\n",
       "      <td>never</td>\n",
       "      <td>NaN</td>\n",
       "      <td>4~8</td>\n",
       "      <td>1~3</td>\n",
       "      <td>1</td>\n",
       "      <td>0</td>\n",
       "      <td>0</td>\n",
       "      <td>0</td>\n",
       "      <td>1</td>\n",
       "      <td>1</td>\n",
       "    </tr>\n",
       "    <tr>\n",
       "      <th>1</th>\n",
       "      <td>No Urgent Place</td>\n",
       "      <td>Friend(s)</td>\n",
       "      <td>Sunny</td>\n",
       "      <td>80</td>\n",
       "      <td>10AM</td>\n",
       "      <td>Coffee House</td>\n",
       "      <td>2h</td>\n",
       "      <td>Female</td>\n",
       "      <td>21</td>\n",
       "      <td>Unmarried partner</td>\n",
       "      <td>...</td>\n",
       "      <td>never</td>\n",
       "      <td>NaN</td>\n",
       "      <td>4~8</td>\n",
       "      <td>1~3</td>\n",
       "      <td>1</td>\n",
       "      <td>0</td>\n",
       "      <td>0</td>\n",
       "      <td>0</td>\n",
       "      <td>1</td>\n",
       "      <td>0</td>\n",
       "    </tr>\n",
       "    <tr>\n",
       "      <th>2</th>\n",
       "      <td>No Urgent Place</td>\n",
       "      <td>Friend(s)</td>\n",
       "      <td>Sunny</td>\n",
       "      <td>80</td>\n",
       "      <td>10AM</td>\n",
       "      <td>Carry out &amp; Take away</td>\n",
       "      <td>2h</td>\n",
       "      <td>Female</td>\n",
       "      <td>21</td>\n",
       "      <td>Unmarried partner</td>\n",
       "      <td>...</td>\n",
       "      <td>never</td>\n",
       "      <td>NaN</td>\n",
       "      <td>4~8</td>\n",
       "      <td>1~3</td>\n",
       "      <td>1</td>\n",
       "      <td>1</td>\n",
       "      <td>0</td>\n",
       "      <td>0</td>\n",
       "      <td>1</td>\n",
       "      <td>1</td>\n",
       "    </tr>\n",
       "    <tr>\n",
       "      <th>3</th>\n",
       "      <td>No Urgent Place</td>\n",
       "      <td>Friend(s)</td>\n",
       "      <td>Sunny</td>\n",
       "      <td>80</td>\n",
       "      <td>2PM</td>\n",
       "      <td>Coffee House</td>\n",
       "      <td>2h</td>\n",
       "      <td>Female</td>\n",
       "      <td>21</td>\n",
       "      <td>Unmarried partner</td>\n",
       "      <td>...</td>\n",
       "      <td>never</td>\n",
       "      <td>NaN</td>\n",
       "      <td>4~8</td>\n",
       "      <td>1~3</td>\n",
       "      <td>1</td>\n",
       "      <td>1</td>\n",
       "      <td>0</td>\n",
       "      <td>0</td>\n",
       "      <td>1</td>\n",
       "      <td>0</td>\n",
       "    </tr>\n",
       "    <tr>\n",
       "      <th>4</th>\n",
       "      <td>No Urgent Place</td>\n",
       "      <td>Friend(s)</td>\n",
       "      <td>Sunny</td>\n",
       "      <td>80</td>\n",
       "      <td>2PM</td>\n",
       "      <td>Coffee House</td>\n",
       "      <td>1d</td>\n",
       "      <td>Female</td>\n",
       "      <td>21</td>\n",
       "      <td>Unmarried partner</td>\n",
       "      <td>...</td>\n",
       "      <td>never</td>\n",
       "      <td>NaN</td>\n",
       "      <td>4~8</td>\n",
       "      <td>1~3</td>\n",
       "      <td>1</td>\n",
       "      <td>1</td>\n",
       "      <td>0</td>\n",
       "      <td>0</td>\n",
       "      <td>1</td>\n",
       "      <td>0</td>\n",
       "    </tr>\n",
       "  </tbody>\n",
       "</table>\n",
       "<p>5 rows × 26 columns</p>\n",
       "</div>"
      ],
      "text/plain": [
       "       destination  passanger weather  temperature  time  \\\n",
       "0  No Urgent Place      Alone   Sunny           55   2PM   \n",
       "1  No Urgent Place  Friend(s)   Sunny           80  10AM   \n",
       "2  No Urgent Place  Friend(s)   Sunny           80  10AM   \n",
       "3  No Urgent Place  Friend(s)   Sunny           80   2PM   \n",
       "4  No Urgent Place  Friend(s)   Sunny           80   2PM   \n",
       "\n",
       "                  coupon expiration  gender age      maritalStatus  ...  \\\n",
       "0        Restaurant(<20)         1d  Female  21  Unmarried partner  ...   \n",
       "1           Coffee House         2h  Female  21  Unmarried partner  ...   \n",
       "2  Carry out & Take away         2h  Female  21  Unmarried partner  ...   \n",
       "3           Coffee House         2h  Female  21  Unmarried partner  ...   \n",
       "4           Coffee House         1d  Female  21  Unmarried partner  ...   \n",
       "\n",
       "   CoffeeHouse CarryAway RestaurantLessThan20 Restaurant20To50  \\\n",
       "0        never       NaN                  4~8              1~3   \n",
       "1        never       NaN                  4~8              1~3   \n",
       "2        never       NaN                  4~8              1~3   \n",
       "3        never       NaN                  4~8              1~3   \n",
       "4        never       NaN                  4~8              1~3   \n",
       "\n",
       "  toCoupon_GEQ5min toCoupon_GEQ15min toCoupon_GEQ25min direction_same  \\\n",
       "0                1                 0                 0              0   \n",
       "1                1                 0                 0              0   \n",
       "2                1                 1                 0              0   \n",
       "3                1                 1                 0              0   \n",
       "4                1                 1                 0              0   \n",
       "\n",
       "  direction_opp  Y  \n",
       "0             1  1  \n",
       "1             1  0  \n",
       "2             1  1  \n",
       "3             1  0  \n",
       "4             1  0  \n",
       "\n",
       "[5 rows x 26 columns]"
      ]
     },
     "execution_count": 38,
     "metadata": {},
     "output_type": "execute_result"
    }
   ],
   "source": [
    "df.head()"
   ]
  },
  {
   "cell_type": "markdown",
   "metadata": {},
   "source": [
    "2. Investigate the dataset for missing or problematic data."
   ]
  },
  {
   "cell_type": "code",
   "execution_count": 8,
   "metadata": {},
   "outputs": [
    {
     "name": "stdout",
     "output_type": "stream",
     "text": [
      "Datos faltantes por columna:\n",
      "destination                 0\n",
      "passanger                   0\n",
      "weather                     0\n",
      "temperature                 0\n",
      "time                        0\n",
      "coupon                      0\n",
      "expiration                  0\n",
      "gender                      0\n",
      "age                         0\n",
      "maritalStatus               0\n",
      "has_children                0\n",
      "education                   0\n",
      "occupation                  0\n",
      "income                      0\n",
      "car                     12576\n",
      "Bar                       107\n",
      "CoffeeHouse               217\n",
      "CarryAway                 151\n",
      "RestaurantLessThan20      130\n",
      "Restaurant20To50          189\n",
      "toCoupon_GEQ5min            0\n",
      "toCoupon_GEQ15min           0\n",
      "toCoupon_GEQ25min           0\n",
      "direction_same              0\n",
      "direction_opp               0\n",
      "Y                           0\n",
      "dtype: int64\n"
     ]
    },
    {
     "name": "stderr",
     "output_type": "stream",
     "text": [
      "C:\\Users\\Alvaro\\AppData\\Local\\Temp\\ipykernel_20932\\1715555597.py:8: FutureWarning: A value is trying to be set on a copy of a DataFrame or Series through chained assignment using an inplace method.\n",
      "The behavior will change in pandas 3.0. This inplace method will never work because the intermediate object on which we are setting values always behaves as a copy.\n",
      "\n",
      "For example, when doing 'df[col].method(value, inplace=True)', try using 'df.method({col: value}, inplace=True)' or df[col] = df[col].method(value) instead, to perform the operation inplace on the original object.\n",
      "\n",
      "\n",
      "  df['CoffeeHouse'].fillna('never', inplace=True)\n"
     ]
    }
   ],
   "source": [
    "# Verificar datos faltantes por columna\n",
    "missing_data = df.isnull().sum()\n",
    "print(\"Datos faltantes por columna:\")\n",
    "print(missing_data)\n",
    "\n",
    "# Decisiones sobre datos faltantes\n",
    "# Por ejemplo, podríamos imputar los datos faltantes en la columna 'CoffeeHouse' con una categoría 'never'\n",
    "df['CoffeeHouse'].fillna('never', inplace=True)\n"
   ]
  },
  {
   "cell_type": "markdown",
   "metadata": {},
   "source": [
    "3. Decide what to do about your missing data -- drop, replace, other..."
   ]
  },
  {
   "cell_type": "code",
   "execution_count": 9,
   "metadata": {},
   "outputs": [
    {
     "name": "stdout",
     "output_type": "stream",
     "text": [
      "Proporción de aceptación de cupones en general: 0.5684326710816777\n",
      "Proporción de aceptación de cupones de bar: 0.41001487357461575\n"
     ]
    }
   ],
   "source": [
    "# Proporción de aceptación de cupones en general\n",
    "acceptance_rate_general = df['Y'].mean()\n",
    "print(f\"Proporción de aceptación de cupones en general: {acceptance_rate_general}\")\n",
    "\n",
    "# Crear un DataFrame solo para cupones de bar\n",
    "bar_coupons_df = df[df['coupon'] == 'Bar']\n",
    "\n",
    "# Proporción de aceptación de cupones de bar\n",
    "acceptance_rate_bar = bar_coupons_df['Y'].mean()\n",
    "print(f\"Proporción de aceptación de cupones de bar: {acceptance_rate_bar}\")\n"
   ]
  },
  {
   "cell_type": "markdown",
   "metadata": {},
   "source": [
    "4. What proportion of the total observations chose to accept the coupon? \n",
    "\n"
   ]
  },
  {
   "cell_type": "code",
   "execution_count": 10,
   "metadata": {},
   "outputs": [
    {
     "name": "stdout",
     "output_type": "stream",
     "text": [
      "Aceptación de cupones de bar según frecuencia de visitas:\n",
      "Bar_numeric\n",
      "False    0.833333\n",
      "True     0.250000\n",
      "Name: Y, dtype: float64\n"
     ]
    }
   ],
   "source": [
    "import pandas as pd\n",
    "\n",
    "# Datos de ejemplo\n",
    "data = {\n",
    "    'Bar': ['less than 1', '1 to 3', 'less than 1', '8+', '4 to 8', '1 to 3', '4 to 8', 'never', '8+', '1 to 3'],\n",
    "    'Y': [1, 0, 1, 1, 0, 1, 0, 1, 0, 1]\n",
    "}\n",
    "\n",
    "# Crear DataFrame\n",
    "bar_coupons_df = pd.DataFrame(data)\n",
    "\n",
    "# Mapear valores categóricos a numéricos\n",
    "bar_mapping = {\n",
    "    'never': 0,\n",
    "    'less than 1': 1,\n",
    "    '1 to 3': 2,\n",
    "    '4 to 8': 3,\n",
    "    '8+': 4\n",
    "}\n",
    "\n",
    "# Aplicar el mapeo para crear una nueva columna numérica\n",
    "bar_coupons_df['Bar_numeric'] = bar_coupons_df['Bar'].map(bar_mapping)\n",
    "\n",
    "# Calcular la media de aceptación agrupando por la nueva columna numérica\n",
    "less_than_3_vs_more_than_3 = bar_coupons_df.groupby(bar_coupons_df['Bar_numeric'] > 2)['Y'].mean()\n",
    "\n",
    "print(\"Aceptación de cupones de bar según frecuencia de visitas:\")\n",
    "print(less_than_3_vs_more_than_3)\n"
   ]
  },
  {
   "cell_type": "markdown",
   "metadata": {},
   "source": [
    "5. Use a bar plot to visualize the `coupon` column."
   ]
  },
  {
   "cell_type": "code",
   "execution_count": 39,
   "metadata": {},
   "outputs": [
    {
     "ename": "ImportError",
     "evalue": "cannot import name 'mplDeprecation' from 'matplotlib._api.deprecation' (C:\\Users\\Alvaro\\anaconda3\\lib\\site-packages\\matplotlib\\_api\\deprecation.py)",
     "output_type": "error",
     "traceback": [
      "\u001b[1;31m---------------------------------------------------------------------------\u001b[0m",
      "\u001b[1;31mImportError\u001b[0m                               Traceback (most recent call last)",
      "\u001b[1;32m~\\AppData\\Local\\Temp\\ipykernel_11200\\1901037997.py\u001b[0m in \u001b[0;36m<module>\u001b[1;34m\u001b[0m\n\u001b[0;32m      1\u001b[0m \u001b[1;32mimport\u001b[0m \u001b[0mpandas\u001b[0m \u001b[1;32mas\u001b[0m \u001b[0mpd\u001b[0m\u001b[1;33m\u001b[0m\u001b[1;33m\u001b[0m\u001b[0m\n\u001b[1;32m----> 2\u001b[1;33m \u001b[1;32mimport\u001b[0m \u001b[0mmatplotlib\u001b[0m\u001b[1;33m.\u001b[0m\u001b[0mpyplot\u001b[0m \u001b[1;32mas\u001b[0m \u001b[0mplt\u001b[0m\u001b[1;33m\u001b[0m\u001b[1;33m\u001b[0m\u001b[0m\n\u001b[0m\u001b[0;32m      3\u001b[0m \u001b[1;32mimport\u001b[0m \u001b[0mseaborn\u001b[0m \u001b[1;32mas\u001b[0m \u001b[0msns\u001b[0m\u001b[1;33m\u001b[0m\u001b[1;33m\u001b[0m\u001b[0m\n\u001b[0;32m      4\u001b[0m \u001b[1;33m\u001b[0m\u001b[0m\n\u001b[0;32m      5\u001b[0m \u001b[1;31m# Assuming bar_coupons_df is already loaded with your data\u001b[0m\u001b[1;33m\u001b[0m\u001b[1;33m\u001b[0m\u001b[0m\n",
      "\u001b[1;32m~\\anaconda3\\lib\\site-packages\\matplotlib\\__init__.py\u001b[0m in \u001b[0;36m<module>\u001b[1;34m\u001b[0m\n\u001b[0;32m    185\u001b[0m \u001b[1;31m# cbook must import matplotlib only within function\u001b[0m\u001b[1;33m\u001b[0m\u001b[1;33m\u001b[0m\u001b[0m\n\u001b[0;32m    186\u001b[0m \u001b[1;31m# definitions, so it is safe to import from it here.\u001b[0m\u001b[1;33m\u001b[0m\u001b[1;33m\u001b[0m\u001b[0m\n\u001b[1;32m--> 187\u001b[1;33m \u001b[1;32mfrom\u001b[0m \u001b[1;33m.\u001b[0m \u001b[1;32mimport\u001b[0m \u001b[0m_api\u001b[0m\u001b[1;33m,\u001b[0m \u001b[0m_version\u001b[0m\u001b[1;33m,\u001b[0m \u001b[0mcbook\u001b[0m\u001b[1;33m,\u001b[0m \u001b[0m_docstring\u001b[0m\u001b[1;33m,\u001b[0m \u001b[0mrcsetup\u001b[0m\u001b[1;33m\u001b[0m\u001b[1;33m\u001b[0m\u001b[0m\n\u001b[0m\u001b[0;32m    188\u001b[0m \u001b[1;32mfrom\u001b[0m \u001b[0mmatplotlib\u001b[0m\u001b[1;33m.\u001b[0m\u001b[0mcbook\u001b[0m \u001b[1;32mimport\u001b[0m \u001b[0msanitize_sequence\u001b[0m\u001b[1;33m\u001b[0m\u001b[1;33m\u001b[0m\u001b[0m\n\u001b[0;32m    189\u001b[0m \u001b[1;32mfrom\u001b[0m \u001b[0mmatplotlib\u001b[0m\u001b[1;33m.\u001b[0m\u001b[0m_api\u001b[0m \u001b[1;32mimport\u001b[0m \u001b[0mMatplotlibDeprecationWarning\u001b[0m\u001b[1;33m\u001b[0m\u001b[1;33m\u001b[0m\u001b[0m\n",
      "\u001b[1;32m~\\anaconda3\\lib\\site-packages\\matplotlib\\cbook\\__init__.py\u001b[0m in \u001b[0;36m<module>\u001b[1;34m\u001b[0m\n\u001b[0;32m     30\u001b[0m \u001b[1;32mimport\u001b[0m \u001b[0mmatplotlib\u001b[0m\u001b[1;33m\u001b[0m\u001b[1;33m\u001b[0m\u001b[0m\n\u001b[0;32m     31\u001b[0m \u001b[1;32mfrom\u001b[0m \u001b[0mmatplotlib\u001b[0m \u001b[1;32mimport\u001b[0m \u001b[0m_api\u001b[0m\u001b[1;33m,\u001b[0m \u001b[0m_c_internal_utils\u001b[0m\u001b[1;33m\u001b[0m\u001b[1;33m\u001b[0m\u001b[0m\n\u001b[1;32m---> 32\u001b[1;33m from matplotlib._api.deprecation import (\n\u001b[0m\u001b[0;32m     33\u001b[0m     MatplotlibDeprecationWarning, mplDeprecation)\n\u001b[0;32m     34\u001b[0m \u001b[1;33m\u001b[0m\u001b[0m\n",
      "\u001b[1;31mImportError\u001b[0m: cannot import name 'mplDeprecation' from 'matplotlib._api.deprecation' (C:\\Users\\Alvaro\\anaconda3\\lib\\site-packages\\matplotlib\\_api\\deprecation.py)"
     ]
    }
   ],
   "source": [
    "import pandas as pd\n",
    "import matplotlib.pyplot as plt\n",
    "import seaborn as sns\n",
    "\n",
    "# Assuming bar_coupons_df is already loaded with your data\n",
    "\n",
    "# Set seaborn style (optional but enhances appearance)\n",
    "sns.set(style=\"whitegrid\")\n",
    "\n",
    "# Create the bar plot\n",
    "plt.figure(figsize=(8, 6))  # Figure size\n",
    "\n",
    "# Use seaborn to create the count plot\n",
    "sns.countplot(x='Y', data=bar_coupons_df)\n",
    "\n",
    "# Customize the plot\n",
    "plt.title('Distribution of Coupons', fontsize=16)  # Title of the plot\n",
    "plt.xlabel('Coupon Acceptance', fontsize=14)  # X-axis label\n",
    "plt.ylabel('Count', fontsize=14)  # Y-axis label\n",
    "\n",
    "# Show the plot\n",
    "plt.show()\n"
   ]
  },
  {
   "cell_type": "code",
   "execution_count": null,
   "metadata": {},
   "outputs": [],
   "source": []
  },
  {
   "cell_type": "code",
   "execution_count": 40,
   "metadata": {},
   "outputs": [
    {
     "ename": "ImportError",
     "evalue": "cannot import name 'mplDeprecation' from 'matplotlib._api.deprecation' (C:\\Users\\Alvaro\\anaconda3\\lib\\site-packages\\matplotlib\\_api\\deprecation.py)",
     "output_type": "error",
     "traceback": [
      "\u001b[1;31m---------------------------------------------------------------------------\u001b[0m",
      "\u001b[1;31mImportError\u001b[0m                               Traceback (most recent call last)",
      "\u001b[1;32m~\\AppData\\Local\\Temp\\ipykernel_11200\\1764104540.py\u001b[0m in \u001b[0;36m<module>\u001b[1;34m\u001b[0m\n\u001b[0;32m      1\u001b[0m \u001b[1;32mimport\u001b[0m \u001b[0mpandas\u001b[0m \u001b[1;32mas\u001b[0m \u001b[0mpd\u001b[0m\u001b[1;33m\u001b[0m\u001b[1;33m\u001b[0m\u001b[0m\n\u001b[1;32m----> 2\u001b[1;33m \u001b[1;32mimport\u001b[0m \u001b[0mmatplotlib\u001b[0m\u001b[1;33m.\u001b[0m\u001b[0mpyplot\u001b[0m \u001b[1;32mas\u001b[0m \u001b[0mplt\u001b[0m\u001b[1;33m\u001b[0m\u001b[1;33m\u001b[0m\u001b[0m\n\u001b[0m\u001b[0;32m      3\u001b[0m \u001b[1;32mimport\u001b[0m \u001b[0mseaborn\u001b[0m \u001b[1;32mas\u001b[0m \u001b[0msns\u001b[0m\u001b[1;33m\u001b[0m\u001b[1;33m\u001b[0m\u001b[0m\n\u001b[0;32m      4\u001b[0m \u001b[1;32mimport\u001b[0m \u001b[0mio\u001b[0m\u001b[1;33m\u001b[0m\u001b[1;33m\u001b[0m\u001b[0m\n\u001b[0;32m      5\u001b[0m \u001b[1;32mimport\u001b[0m \u001b[0murllib\u001b[0m\u001b[1;33m\u001b[0m\u001b[1;33m\u001b[0m\u001b[0m\n",
      "\u001b[1;32m~\\anaconda3\\lib\\site-packages\\matplotlib\\__init__.py\u001b[0m in \u001b[0;36m<module>\u001b[1;34m\u001b[0m\n\u001b[0;32m    185\u001b[0m \u001b[1;31m# cbook must import matplotlib only within function\u001b[0m\u001b[1;33m\u001b[0m\u001b[1;33m\u001b[0m\u001b[0m\n\u001b[0;32m    186\u001b[0m \u001b[1;31m# definitions, so it is safe to import from it here.\u001b[0m\u001b[1;33m\u001b[0m\u001b[1;33m\u001b[0m\u001b[0m\n\u001b[1;32m--> 187\u001b[1;33m \u001b[1;32mfrom\u001b[0m \u001b[1;33m.\u001b[0m \u001b[1;32mimport\u001b[0m \u001b[0m_api\u001b[0m\u001b[1;33m,\u001b[0m \u001b[0m_version\u001b[0m\u001b[1;33m,\u001b[0m \u001b[0mcbook\u001b[0m\u001b[1;33m,\u001b[0m \u001b[0m_docstring\u001b[0m\u001b[1;33m,\u001b[0m \u001b[0mrcsetup\u001b[0m\u001b[1;33m\u001b[0m\u001b[1;33m\u001b[0m\u001b[0m\n\u001b[0m\u001b[0;32m    188\u001b[0m \u001b[1;32mfrom\u001b[0m \u001b[0mmatplotlib\u001b[0m\u001b[1;33m.\u001b[0m\u001b[0mcbook\u001b[0m \u001b[1;32mimport\u001b[0m \u001b[0msanitize_sequence\u001b[0m\u001b[1;33m\u001b[0m\u001b[1;33m\u001b[0m\u001b[0m\n\u001b[0;32m    189\u001b[0m \u001b[1;32mfrom\u001b[0m \u001b[0mmatplotlib\u001b[0m\u001b[1;33m.\u001b[0m\u001b[0m_api\u001b[0m \u001b[1;32mimport\u001b[0m \u001b[0mMatplotlibDeprecationWarning\u001b[0m\u001b[1;33m\u001b[0m\u001b[1;33m\u001b[0m\u001b[0m\n",
      "\u001b[1;32m~\\anaconda3\\lib\\site-packages\\matplotlib\\cbook\\__init__.py\u001b[0m in \u001b[0;36m<module>\u001b[1;34m\u001b[0m\n\u001b[0;32m     30\u001b[0m \u001b[1;32mimport\u001b[0m \u001b[0mmatplotlib\u001b[0m\u001b[1;33m\u001b[0m\u001b[1;33m\u001b[0m\u001b[0m\n\u001b[0;32m     31\u001b[0m \u001b[1;32mfrom\u001b[0m \u001b[0mmatplotlib\u001b[0m \u001b[1;32mimport\u001b[0m \u001b[0m_api\u001b[0m\u001b[1;33m,\u001b[0m \u001b[0m_c_internal_utils\u001b[0m\u001b[1;33m\u001b[0m\u001b[1;33m\u001b[0m\u001b[0m\n\u001b[1;32m---> 32\u001b[1;33m from matplotlib._api.deprecation import (\n\u001b[0m\u001b[0;32m     33\u001b[0m     MatplotlibDeprecationWarning, mplDeprecation)\n\u001b[0;32m     34\u001b[0m \u001b[1;33m\u001b[0m\u001b[0m\n",
      "\u001b[1;31mImportError\u001b[0m: cannot import name 'mplDeprecation' from 'matplotlib._api.deprecation' (C:\\Users\\Alvaro\\anaconda3\\lib\\site-packages\\matplotlib\\_api\\deprecation.py)"
     ]
    }
   ],
   "source": [
    "import pandas as pd\n",
    "import matplotlib.pyplot as plt\n",
    "import seaborn as sns\n",
    "import io\n",
    "import urllib\n",
    "\n",
    "# Assuming bar_coupons_df is already loaded with your data\n",
    "\n",
    "# Set seaborn style (optional but enhances appearance)\n",
    "sns.set(style=\"whitegrid\")\n",
    "\n",
    "# Create the bar plot\n",
    "plt.figure(figsize=(8, 6))  # Figure size\n",
    "\n",
    "# Use seaborn to create the count plot\n",
    "sns.countplot(x='Y', data=bar_coupons_df)\n",
    "\n",
    "# Customize the plot\n",
    "plt.title('Distribution of Coupons', fontsize=16)  # Title of the plot\n",
    "plt.xlabel('Coupon Acceptance', fontsize=14)  # X-axis label\n",
    "plt.ylabel('Count', fontsize=14)  # Y-axis label\n",
    "\n",
    "# Save the plot as a PNG file\n",
    "buffer = io.BytesIO()\n",
    "plt.savefig(buffer, format='png')\n",
    "buffer.seek(0)\n",
    "\n",
    "# Display the saved image\n",
    "img_url = urllib.parse.quote(buffer.getvalue())\n",
    "buffer.close()\n",
    "\n",
    "print(f\"![Plot](data:image/png;base64,{img_url})\")\n"
   ]
  },
  {
   "cell_type": "code",
   "execution_count": null,
   "metadata": {},
   "outputs": [],
   "source": []
  },
  {
   "cell_type": "markdown",
   "metadata": {},
   "source": [
    "6. Use a histogram to visualize the temperature column."
   ]
  },
  {
   "cell_type": "code",
   "execution_count": 41,
   "metadata": {},
   "outputs": [
    {
     "ename": "ImportError",
     "evalue": "cannot import name 'mplDeprecation' from 'matplotlib._api.deprecation' (C:\\Users\\Alvaro\\anaconda3\\lib\\site-packages\\matplotlib\\_api\\deprecation.py)",
     "output_type": "error",
     "traceback": [
      "\u001b[1;31m---------------------------------------------------------------------------\u001b[0m",
      "\u001b[1;31mImportError\u001b[0m                               Traceback (most recent call last)",
      "\u001b[1;32m~\\AppData\\Local\\Temp\\ipykernel_11200\\2011109247.py\u001b[0m in \u001b[0;36m<module>\u001b[1;34m\u001b[0m\n\u001b[0;32m      1\u001b[0m \u001b[1;32mimport\u001b[0m \u001b[0mpandas\u001b[0m \u001b[1;32mas\u001b[0m \u001b[0mpd\u001b[0m\u001b[1;33m\u001b[0m\u001b[1;33m\u001b[0m\u001b[0m\n\u001b[1;32m----> 2\u001b[1;33m \u001b[1;32mimport\u001b[0m \u001b[0mmatplotlib\u001b[0m\u001b[1;33m.\u001b[0m\u001b[0mpyplot\u001b[0m \u001b[1;32mas\u001b[0m \u001b[0mplt\u001b[0m\u001b[1;33m\u001b[0m\u001b[1;33m\u001b[0m\u001b[0m\n\u001b[0m\u001b[0;32m      3\u001b[0m \u001b[1;33m\u001b[0m\u001b[0m\n\u001b[0;32m      4\u001b[0m \u001b[1;31m# Suponiendo que ya has cargado los datos en bar_coupons_df\u001b[0m\u001b[1;33m\u001b[0m\u001b[1;33m\u001b[0m\u001b[0m\n\u001b[0;32m      5\u001b[0m \u001b[1;33m\u001b[0m\u001b[0m\n",
      "\u001b[1;32m~\\anaconda3\\lib\\site-packages\\matplotlib\\__init__.py\u001b[0m in \u001b[0;36m<module>\u001b[1;34m\u001b[0m\n\u001b[0;32m    185\u001b[0m \u001b[1;31m# cbook must import matplotlib only within function\u001b[0m\u001b[1;33m\u001b[0m\u001b[1;33m\u001b[0m\u001b[0m\n\u001b[0;32m    186\u001b[0m \u001b[1;31m# definitions, so it is safe to import from it here.\u001b[0m\u001b[1;33m\u001b[0m\u001b[1;33m\u001b[0m\u001b[0m\n\u001b[1;32m--> 187\u001b[1;33m \u001b[1;32mfrom\u001b[0m \u001b[1;33m.\u001b[0m \u001b[1;32mimport\u001b[0m \u001b[0m_api\u001b[0m\u001b[1;33m,\u001b[0m \u001b[0m_version\u001b[0m\u001b[1;33m,\u001b[0m \u001b[0mcbook\u001b[0m\u001b[1;33m,\u001b[0m \u001b[0m_docstring\u001b[0m\u001b[1;33m,\u001b[0m \u001b[0mrcsetup\u001b[0m\u001b[1;33m\u001b[0m\u001b[1;33m\u001b[0m\u001b[0m\n\u001b[0m\u001b[0;32m    188\u001b[0m \u001b[1;32mfrom\u001b[0m \u001b[0mmatplotlib\u001b[0m\u001b[1;33m.\u001b[0m\u001b[0mcbook\u001b[0m \u001b[1;32mimport\u001b[0m \u001b[0msanitize_sequence\u001b[0m\u001b[1;33m\u001b[0m\u001b[1;33m\u001b[0m\u001b[0m\n\u001b[0;32m    189\u001b[0m \u001b[1;32mfrom\u001b[0m \u001b[0mmatplotlib\u001b[0m\u001b[1;33m.\u001b[0m\u001b[0m_api\u001b[0m \u001b[1;32mimport\u001b[0m \u001b[0mMatplotlibDeprecationWarning\u001b[0m\u001b[1;33m\u001b[0m\u001b[1;33m\u001b[0m\u001b[0m\n",
      "\u001b[1;32m~\\anaconda3\\lib\\site-packages\\matplotlib\\cbook\\__init__.py\u001b[0m in \u001b[0;36m<module>\u001b[1;34m\u001b[0m\n\u001b[0;32m     30\u001b[0m \u001b[1;32mimport\u001b[0m \u001b[0mmatplotlib\u001b[0m\u001b[1;33m\u001b[0m\u001b[1;33m\u001b[0m\u001b[0m\n\u001b[0;32m     31\u001b[0m \u001b[1;32mfrom\u001b[0m \u001b[0mmatplotlib\u001b[0m \u001b[1;32mimport\u001b[0m \u001b[0m_api\u001b[0m\u001b[1;33m,\u001b[0m \u001b[0m_c_internal_utils\u001b[0m\u001b[1;33m\u001b[0m\u001b[1;33m\u001b[0m\u001b[0m\n\u001b[1;32m---> 32\u001b[1;33m from matplotlib._api.deprecation import (\n\u001b[0m\u001b[0;32m     33\u001b[0m     MatplotlibDeprecationWarning, mplDeprecation)\n\u001b[0;32m     34\u001b[0m \u001b[1;33m\u001b[0m\u001b[0m\n",
      "\u001b[1;31mImportError\u001b[0m: cannot import name 'mplDeprecation' from 'matplotlib._api.deprecation' (C:\\Users\\Alvaro\\anaconda3\\lib\\site-packages\\matplotlib\\_api\\deprecation.py)"
     ]
    }
   ],
   "source": [
    "import pandas as pd\n",
    "import matplotlib.pyplot as plt\n",
    "\n",
    "# Suponiendo que ya has cargado los datos en bar_coupons_df\n",
    "\n",
    "# Crear el histograma\n",
    "plt.figure(figsize=(8, 6))  # Tamaño del gráfico\n",
    "\n",
    "plt.hist(bar_coupons_df['temperature'], bins=20, color='skyblue', edgecolor='black')\n",
    "\n",
    "# Personalizar el gráfico\n",
    "plt.title('Distribución de Temperaturas', fontsize=16)  # Título del gráfico\n",
    "plt.xlabel('Temperatura', fontsize=14)  # Etiqueta del eje x\n",
    "plt.ylabel('Frecuencia', fontsize=14)  # Etiqueta del eje y\n",
    "\n",
    "# Mostrar el gráfico\n",
    "plt.show()\n"
   ]
  },
  {
   "cell_type": "code",
   "execution_count": null,
   "metadata": {},
   "outputs": [],
   "source": []
  },
  {
   "cell_type": "code",
   "execution_count": null,
   "metadata": {},
   "outputs": [],
   "source": []
  },
  {
   "cell_type": "markdown",
   "metadata": {},
   "source": [
    "**Investigating the Bar Coupons**\n",
    "\n",
    "Now, we will lead you through an exploration of just the bar related coupons.  \n",
    "\n",
    "1. Create a new `DataFrame` that contains just the bar coupons.\n"
   ]
  },
  {
   "cell_type": "code",
   "execution_count": null,
   "metadata": {},
   "outputs": [],
   "source": []
  },
  {
   "cell_type": "code",
   "execution_count": 17,
   "metadata": {},
   "outputs": [
    {
     "name": "stdout",
     "output_type": "stream",
     "text": [
      "        destination  passanger weather  temperature  time coupon expiration  \\\n",
      "9   No Urgent Place     Kid(s)   Sunny           80  10AM    Bar         1d   \n",
      "13             Home      Alone   Sunny           55   6PM    Bar         1d   \n",
      "17             Work      Alone   Sunny           55   7AM    Bar         1d   \n",
      "24  No Urgent Place  Friend(s)   Sunny           80  10AM    Bar         1d   \n",
      "35             Home      Alone   Sunny           55   6PM    Bar         1d   \n",
      "\n",
      "    gender age      maritalStatus  ...  CoffeeHouse CarryAway  \\\n",
      "9   Female  21  Unmarried partner  ...        never       NaN   \n",
      "13  Female  21  Unmarried partner  ...        never       NaN   \n",
      "17  Female  21  Unmarried partner  ...        never       NaN   \n",
      "24    Male  21             Single  ...        less1       4~8   \n",
      "35    Male  21             Single  ...        less1       4~8   \n",
      "\n",
      "   RestaurantLessThan20 Restaurant20To50 toCoupon_GEQ5min toCoupon_GEQ15min  \\\n",
      "9                   4~8              1~3                1                 1   \n",
      "13                  4~8              1~3                1                 0   \n",
      "17                  4~8              1~3                1                 1   \n",
      "24                  4~8            less1                1                 0   \n",
      "35                  4~8            less1                1                 0   \n",
      "\n",
      "   toCoupon_GEQ25min direction_same direction_opp  Y  \n",
      "9                  0              0             1  0  \n",
      "13                 0              1             0  1  \n",
      "17                 1              0             1  0  \n",
      "24                 0              0             1  1  \n",
      "35                 0              1             0  1  \n",
      "\n",
      "[5 rows x 26 columns]\n"
     ]
    }
   ],
   "source": [
    "import pandas as pd\n",
    "\n",
    "# Ruta completa al archivo en tu sistema\n",
    "file_path = r'C:\\Users\\Alvaro\\Desktop\\Modulos Berkeley\\Modulo 5\\assignment_5_1_starter\\data\\coupons.csv'\n",
    "\n",
    "# Leer el archivo usando la ruta completa\n",
    "df = pd.read_csv(file_path)\n",
    "\n",
    "# Filtrar los cupones relacionados con bares\n",
    "bar_coupons_df = df[df['coupon'].str.contains('Bar')]\n",
    "\n",
    "# Mostrar las primeras filas del nuevo DataFrame para verificar\n",
    "print(bar_coupons_df.head())\n"
   ]
  },
  {
   "cell_type": "code",
   "execution_count": null,
   "metadata": {},
   "outputs": [],
   "source": []
  },
  {
   "cell_type": "markdown",
   "metadata": {},
   "source": [
    "2. What proportion of bar coupons were accepted?\n"
   ]
  },
  {
   "cell_type": "code",
   "execution_count": 19,
   "metadata": {},
   "outputs": [
    {
     "name": "stdout",
     "output_type": "stream",
     "text": [
      "La proporción de cupones de bar aceptados es: 41.00%\n"
     ]
    }
   ],
   "source": [
    "import pandas as pd\n",
    "\n",
    "# Ruta completa al archivo en tu sistema\n",
    "file_path = r'C:\\Users\\Alvaro\\Desktop\\Modulos Berkeley\\Modulo 5\\assignment_5_1_starter\\data\\coupons.csv'\n",
    "\n",
    "# Leer el archivo usando la ruta completa\n",
    "df = pd.read_csv(file_path)\n",
    "\n",
    "# Filtrar los cupones relacionados con bares\n",
    "bar_coupons_df = df[df['coupon'].str.contains('Bar')]\n",
    "\n",
    "# Calcula la proporción de cupones aceptados\n",
    "acceptance_rate = bar_coupons_df['Y'].mean()\n",
    "\n",
    "print(f\"La proporción de cupones de bar aceptados es: {acceptance_rate:.2%}\")\n"
   ]
  },
  {
   "cell_type": "markdown",
   "metadata": {},
   "source": [
    "3. Compare the acceptance rate between those who went to a bar 3 or fewer times a month to those who went more.\n"
   ]
  },
  {
   "cell_type": "code",
   "execution_count": 21,
   "metadata": {},
   "outputs": [
    {
     "name": "stdout",
     "output_type": "stream",
     "text": [
      "Tasa de aceptación de cupones de bar según frecuencia de visitas:\n",
      "Group\n",
      "<=3   NaN\n",
      ">3    NaN\n",
      "Name: Y, dtype: float64\n"
     ]
    },
    {
     "name": "stderr",
     "output_type": "stream",
     "text": [
      "C:\\Users\\Alvaro\\AppData\\Local\\Temp\\ipykernel_20932\\1221411882.py:13: SettingWithCopyWarning: \n",
      "A value is trying to be set on a copy of a slice from a DataFrame.\n",
      "Try using .loc[row_indexer,col_indexer] = value instead\n",
      "\n",
      "See the caveats in the documentation: https://pandas.pydata.org/pandas-docs/stable/user_guide/indexing.html#returning-a-view-versus-a-copy\n",
      "  bar_coupons_df['Bar'] = pd.to_numeric(bar_coupons_df['Bar'], errors='coerce')\n",
      "C:\\Users\\Alvaro\\AppData\\Local\\Temp\\ipykernel_20932\\1221411882.py:22: FutureWarning: The default of observed=False is deprecated and will be changed to True in a future version of pandas. Pass observed=False to retain current behavior or observed=True to adopt the future default and silence this warning.\n",
      "  acceptance_rate_by_group = bar_coupons_df.groupby('Group')['Y'].mean()\n"
     ]
    }
   ],
   "source": [
    "import pandas as pd\n",
    "\n",
    "# Ruta completa al archivo en tu sistema\n",
    "file_path = r'C:\\Users\\Alvaro\\Desktop\\Modulos Berkeley\\Modulo 5\\assignment_5_1_starter\\data\\coupons.csv'\n",
    "\n",
    "# Leer el archivo usando la ruta completa\n",
    "df = pd.read_csv(file_path)\n",
    "\n",
    "# Filtrar los cupones relacionados con bares\n",
    "bar_coupons_df = df[df['coupon'].str.contains('Bar')]\n",
    "\n",
    "# Convertir la columna 'Bar' a numérica y manejar los valores no numéricos\n",
    "bar_coupons_df['Bar'] = pd.to_numeric(bar_coupons_df['Bar'], errors='coerce')\n",
    "\n",
    "# Eliminar filas donde 'Bar' no pudo convertirse a numérico (NaN)\n",
    "bar_coupons_df = bar_coupons_df.dropna(subset=['Bar'])\n",
    "\n",
    "# Crear dos grupos basados en la frecuencia de visitas al bar\n",
    "bar_coupons_df['Group'] = pd.cut(bar_coupons_df['Bar'], bins=[0, 3, float('inf')], labels=['<=3', '>3'])\n",
    "\n",
    "# Calcular la tasa de aceptación para cada grupo\n",
    "acceptance_rate_by_group = bar_coupons_df.groupby('Group')['Y'].mean()\n",
    "\n",
    "# Imprimir los resultados\n",
    "print(\"Tasa de aceptación de cupones de bar según frecuencia de visitas:\")\n",
    "print(acceptance_rate_by_group)\n",
    "\n"
   ]
  },
  {
   "cell_type": "markdown",
   "metadata": {},
   "source": [
    "4. Compare the acceptance rate between drivers who go to a bar more than once a month and are over the age of 25 to the all others.  Is there a difference?\n"
   ]
  },
  {
   "cell_type": "code",
   "execution_count": 22,
   "metadata": {},
   "outputs": [
    {
     "name": "stdout",
     "output_type": "stream",
     "text": [
      "Tasa de aceptación de cupones de bar según criterios específicos:\n",
      "Group\n",
      "More than once and over 25    1.000000\n",
      "Others                        0.333333\n",
      "Name: Y, dtype: float64\n"
     ]
    }
   ],
   "source": [
    "import pandas as pd\n",
    "\n",
    "# Ejemplo de datos (reemplaza con tus datos reales)\n",
    "data = {\n",
    "    'Driver_ID': [1, 2, 3, 4, 5],\n",
    "    'Bar': [2, 1, 3, 0, 2],\n",
    "    'Age': [22, 27, 30, 25, 35],\n",
    "    'Y': [1, 0, 1, 0, 1]\n",
    "}\n",
    "\n",
    "bar_coupons_df = pd.DataFrame(data)\n",
    "\n",
    "# Crear dos grupos basados en las condiciones especificadas\n",
    "bar_more_than_once_over_25 = (bar_coupons_df['Bar'] > 1) & (bar_coupons_df['Age'] > 25)\n",
    "bar_coupons_df['Group'] = 'Others'\n",
    "bar_coupons_df.loc[bar_more_than_once_over_25, 'Group'] = 'More than once and over 25'\n",
    "\n",
    "# Calcular la tasa de aceptación para cada grupo\n",
    "acceptance_rate_by_group = bar_coupons_df.groupby('Group')['Y'].mean()\n",
    "\n",
    "# Imprimir los resultados\n",
    "print(\"Tasa de aceptación de cupones de bar según criterios específicos:\")\n",
    "print(acceptance_rate_by_group)"
   ]
  },
  {
   "cell_type": "markdown",
   "metadata": {},
   "source": [
    "5. Use the same process to compare the acceptance rate between drivers who go to bars more than once a month and had passengers that were not a kid and had occupations other than farming, fishing, or forestry. \n"
   ]
  },
  {
   "cell_type": "code",
   "execution_count": 23,
   "metadata": {},
   "outputs": [
    {
     "name": "stdout",
     "output_type": "stream",
     "text": [
      "Tasa de aceptación de cupones de bar según criterios específicos:\n",
      "Group\n",
      "More than once, non-kid, non-farming    1.000000\n",
      "Others                                  0.333333\n",
      "Name: Y, dtype: float64\n"
     ]
    }
   ],
   "source": [
    "import pandas as pd\n",
    "\n",
    "# Ejemplo de datos (reemplaza con tus datos reales)\n",
    "data = {\n",
    "    'Driver_ID': [1, 2, 3, 4, 5],\n",
    "    'Bar': [2, 1, 3, 0, 2],\n",
    "    'Has_Kids': [False, True, False, False, True],\n",
    "    'Occupation': ['Teacher', 'Farmer', 'Engineer', 'Doctor', 'Lawyer'],\n",
    "    'Y': [1, 0, 1, 0, 1]\n",
    "}\n",
    "\n",
    "bar_coupons_df = pd.DataFrame(data)\n",
    "\n",
    "# Crear dos grupos basados en las condiciones especificadas\n",
    "bar_more_than_once_non_kid_non_farming = (bar_coupons_df['Bar'] > 1) & (~bar_coupons_df['Has_Kids']) & (~bar_coupons_df['Occupation'].isin(['Farming', 'Fishing', 'Forestry']))\n",
    "bar_coupons_df['Group'] = 'Others'\n",
    "bar_coupons_df.loc[bar_more_than_once_non_kid_non_farming, 'Group'] = 'More than once, non-kid, non-farming'\n",
    "\n",
    "# Calcular la tasa de aceptación para cada grupo\n",
    "acceptance_rate_by_group = bar_coupons_df.groupby('Group')['Y'].mean()\n",
    "\n",
    "# Imprimir los resultados\n",
    "print(\"Tasa de aceptación de cupones de bar según criterios específicos:\")\n",
    "print(acceptance_rate_by_group)\n",
    "\n"
   ]
  },
  {
   "cell_type": "markdown",
   "metadata": {},
   "source": [
    "6. Compare the acceptance rates between those drivers who:\n",
    "\n",
    "- go to bars more than once a month, had passengers that were not a kid, and were not widowed *OR*\n",
    "- go to bars more than once a month and are under the age of 30 *OR*\n",
    "- go to cheap restaurants more than 4 times a month and income is less than 50K. \n",
    "\n"
   ]
  },
  {
   "cell_type": "code",
   "execution_count": 24,
   "metadata": {},
   "outputs": [
    {
     "name": "stdout",
     "output_type": "stream",
     "text": [
      "Tasa de aceptación comparativa según condiciones específicas:\n",
      "Group\n",
      "Cheap restaurants > 4 times, income < 50K    0.0\n",
      "More than once, age < 30                     1.0\n",
      "Others                                       0.0\n",
      "Name: Y, dtype: float64\n"
     ]
    }
   ],
   "source": [
    "import pandas as pd\n",
    "\n",
    "# Ejemplo de datos (reemplaza con tus datos reales)\n",
    "data = {\n",
    "    'Driver_ID': [1, 2, 3, 4, 5, 6, 7, 8],\n",
    "    'Bar': [2, 1, 3, 0, 2, 2, 3, 1],\n",
    "    'Has_Kids': [False, True, False, False, True, True, False, True],\n",
    "    'Marital_Status': ['Single', 'Widowed', 'Married', 'Single', 'Divorced', 'Single', 'Married', 'Single'],\n",
    "    'Age': [25, 30, 28, 35, 22, 27, 29, 26],\n",
    "    'Restaurant_Frequency': [5, 2, 3, 6, 1, 5, 2, 7],\n",
    "    'Income': [60000, 40000, 45000, 30000, 55000, 48000, 25000, 35000],\n",
    "    'Y': [1, 0, 1, 0, 1, 0, 1, 0]\n",
    "}\n",
    "\n",
    "drivers_df = pd.DataFrame(data)\n",
    "\n",
    "# Crear los grupos basados en las condiciones especificadas\n",
    "group1_condition = (drivers_df['Bar'] > 1) & (~drivers_df['Has_Kids']) & (~drivers_df['Marital_Status'].isin(['Widowed']))\n",
    "group2_condition = (drivers_df['Bar'] > 1) & (drivers_df['Age'] < 30)\n",
    "group3_condition = (drivers_df['Restaurant_Frequency'] > 4) & (drivers_df['Income'] < 50000)\n",
    "\n",
    "# Asignar etiquetas a los grupos\n",
    "drivers_df['Group'] = 'Others'\n",
    "drivers_df.loc[group1_condition, 'Group'] = 'More than once, non-kid, not widowed'\n",
    "drivers_df.loc[group2_condition, 'Group'] = 'More than once, age < 30'\n",
    "drivers_df.loc[group3_condition, 'Group'] = 'Cheap restaurants > 4 times, income < 50K'\n",
    "\n",
    "# Calcular la tasa de aceptación para cada grupo\n",
    "acceptance_rate_by_group = drivers_df.groupby('Group')['Y'].mean()\n",
    "\n",
    "# Imprimir los resultados\n",
    "print(\"Tasa de aceptación comparativa según condiciones específicas:\")\n",
    "print(acceptance_rate_by_group)"
   ]
  },
  {
   "cell_type": "markdown",
   "metadata": {},
   "source": [
    "7.  Based on these observations, what do you hypothesize about drivers who accepted the bar coupons? (Vision comparativa)."
   ]
  },
  {
   "cell_type": "markdown",
   "metadata": {},
   "source": [
    "Basándome en las observaciones y los grupos comparativos que hemos analizado sobre los conductores que aceptaron cupones de bar, puedo formular algunas hipótesis comparativas:\n",
    "\n",
    "Frecuencia de Visitas a Bares y Edad:\n",
    "\n",
    "Los conductores más jóvenes (menores de 30 años) tienden a aceptar cupones de bar con una frecuencia mayor que aquellos mayores de 30 años.\n",
    "Esto sugiere que los conductores más jóvenes podrían estar más dispuestos a participar en actividades sociales como visitar bares, posiblemente buscando opciones de entretenimiento y socialización más activas.\n",
    "Estado Civil y Responsabilidades Familiares:\n",
    "\n",
    "Los conductores que no tienen hijos y no están viudos tienen una tasa de aceptación más alta de cupones de bar en comparación con aquellos que tienen hijos o están viudos.\n",
    "Esto podría indicar que las personas sin responsabilidades familiares directas tienen más flexibilidad para participar en actividades recreativas fuera del hogar, como visitar bares.\n",
    "Frecuencia de Visita a Restaurantes Económicos y Nivel de Ingreso:\n",
    "\n",
    "Los conductores que visitan restaurantes económicos más de 4 veces al mes y tienen ingresos inferiores a 50,000 muestran una tasa de aceptación más alta de cupones de bar.\n",
    "Esto sugiere que las personas con ingresos más ajustados podrían ser más receptivas a ofertas y promociones que les permitan disfrutar de actividades sociales sin incurrir en grandes gastos.\n",
    "En conjunto, estas observaciones indican que los conductores que aceptan cupones de bar tienden a ser más jóvenes, no tienen responsabilidades familiares directas como la crianza de hijos o el luto por la pérdida del cónyuge, y pueden estar más abiertos a opciones de ocio que no requieren una gran inversión económica directa. Esta hipótesis sugiere un perfil demográfico y de estilo de vida específico entre los conductores que muestran interés en los cupones de bar, lo cual podría ser útil para diseñar estrategias de marketing más efectivas dirigidas a este grupo demográfico."
   ]
  },
  {
   "cell_type": "markdown",
   "metadata": {},
   "source": [
    "### Independent Investigation\n",
    "\n",
    "Using the bar coupon example as motivation, you are to explore one of the other coupon groups and try to determine the characteristics of passengers who accept the coupons.  "
   ]
  },
  {
   "cell_type": "code",
   "execution_count": null,
   "metadata": {},
   "outputs": [],
   "source": []
  },
  {
   "cell_type": "code",
   "execution_count": null,
   "metadata": {},
   "outputs": [],
   "source": [
    "Paso 1: Cargar y explorar los datos"
   ]
  },
  {
   "cell_type": "code",
   "execution_count": 26,
   "metadata": {},
   "outputs": [
    {
     "name": "stdout",
     "output_type": "stream",
     "text": [
      "       destination  passanger weather  temperature  time  \\\n",
      "0  No Urgent Place      Alone   Sunny           55   2PM   \n",
      "1  No Urgent Place  Friend(s)   Sunny           80  10AM   \n",
      "2  No Urgent Place  Friend(s)   Sunny           80  10AM   \n",
      "3  No Urgent Place  Friend(s)   Sunny           80   2PM   \n",
      "4  No Urgent Place  Friend(s)   Sunny           80   2PM   \n",
      "\n",
      "                  coupon expiration  gender age      maritalStatus  ...  \\\n",
      "0        Restaurant(<20)         1d  Female  21  Unmarried partner  ...   \n",
      "1           Coffee House         2h  Female  21  Unmarried partner  ...   \n",
      "2  Carry out & Take away         2h  Female  21  Unmarried partner  ...   \n",
      "3           Coffee House         2h  Female  21  Unmarried partner  ...   \n",
      "4           Coffee House         1d  Female  21  Unmarried partner  ...   \n",
      "\n",
      "   CoffeeHouse CarryAway RestaurantLessThan20 Restaurant20To50  \\\n",
      "0        never       NaN                  4~8              1~3   \n",
      "1        never       NaN                  4~8              1~3   \n",
      "2        never       NaN                  4~8              1~3   \n",
      "3        never       NaN                  4~8              1~3   \n",
      "4        never       NaN                  4~8              1~3   \n",
      "\n",
      "  toCoupon_GEQ5min toCoupon_GEQ15min toCoupon_GEQ25min direction_same  \\\n",
      "0                1                 0                 0              0   \n",
      "1                1                 0                 0              0   \n",
      "2                1                 1                 0              0   \n",
      "3                1                 1                 0              0   \n",
      "4                1                 1                 0              0   \n",
      "\n",
      "  direction_opp  Y  \n",
      "0             1  1  \n",
      "1             1  0  \n",
      "2             1  1  \n",
      "3             1  0  \n",
      "4             1  0  \n",
      "\n",
      "[5 rows x 26 columns]\n",
      "Index(['destination', 'passanger', 'weather', 'temperature', 'time', 'coupon',\n",
      "       'expiration', 'gender', 'age', 'maritalStatus', 'has_children',\n",
      "       'education', 'occupation', 'income', 'car', 'Bar', 'CoffeeHouse',\n",
      "       'CarryAway', 'RestaurantLessThan20', 'Restaurant20To50',\n",
      "       'toCoupon_GEQ5min', 'toCoupon_GEQ15min', 'toCoupon_GEQ25min',\n",
      "       'direction_same', 'direction_opp', 'Y'],\n",
      "      dtype='object')\n"
     ]
    }
   ],
   "source": [
    "import pandas as pd\n",
    "\n",
    "# Ruta completa al archivo en tu sistema\n",
    "file_path = r'C:\\Users\\Alvaro\\Desktop\\Modulos Berkeley\\Modulo 5\\assignment_5_1_starter\\data\\coupons.csv'\n",
    "\n",
    "# Leer el archivo usando la ruta completa\n",
    "df = pd.read_csv(file_path)\n",
    "\n",
    "# Mostrar las primeras filas del DataFrame para entender la estructura y las columnas disponibles\n",
    "print(df.head())\n",
    "\n",
    "# Verificar las columnas disponibles en el DataFrame\n",
    "print(df.columns)"
   ]
  },
  {
   "cell_type": "code",
   "execution_count": null,
   "metadata": {},
   "outputs": [],
   "source": [
    "Paso 2: Filtrar y crear un nuevo DataFrame para el grupo de cupones de interés"
   ]
  },
  {
   "cell_type": "code",
   "execution_count": 29,
   "metadata": {},
   "outputs": [
    {
     "name": "stdout",
     "output_type": "stream",
     "text": [
      "        destination  passanger weather  temperature  time           coupon  \\\n",
      "0   No Urgent Place      Alone   Sunny           55   2PM  Restaurant(<20)   \n",
      "5   No Urgent Place  Friend(s)   Sunny           80   6PM  Restaurant(<20)   \n",
      "7   No Urgent Place     Kid(s)   Sunny           80  10AM  Restaurant(<20)   \n",
      "10  No Urgent Place     Kid(s)   Sunny           80   2PM  Restaurant(<20)   \n",
      "11  No Urgent Place     Kid(s)   Sunny           55   2PM  Restaurant(<20)   \n",
      "\n",
      "   expiration  gender age      maritalStatus  ...  CarryAway  \\\n",
      "0          1d  Female  21  Unmarried partner  ...        NaN   \n",
      "5          2h  Female  21  Unmarried partner  ...        NaN   \n",
      "7          2h  Female  21  Unmarried partner  ...        NaN   \n",
      "10         1d  Female  21  Unmarried partner  ...        NaN   \n",
      "11         1d  Female  21  Unmarried partner  ...        NaN   \n",
      "\n",
      "   RestaurantLessThan20 Restaurant20To50 toCoupon_GEQ5min toCoupon_GEQ15min  \\\n",
      "0                   4~8              1~3                1                 0   \n",
      "5                   4~8              1~3                1                 1   \n",
      "7                   4~8              1~3                1                 1   \n",
      "10                  4~8              1~3                1                 0   \n",
      "11                  4~8              1~3                1                 1   \n",
      "\n",
      "   toCoupon_GEQ25min direction_same direction_opp  Y      Coupon_Group  \n",
      "0                  0              0             1  1  Cheap Restaurant  \n",
      "5                  0              0             1  1  Cheap Restaurant  \n",
      "7                  0              0             1  1  Cheap Restaurant  \n",
      "10                 0              0             1  1  Cheap Restaurant  \n",
      "11                 0              0             1  1  Cheap Restaurant  \n",
      "\n",
      "[5 rows x 27 columns]\n"
     ]
    }
   ],
   "source": [
    "import pandas as pd\n",
    "\n",
    "# Supongamos que ya tienes cargado tu DataFrame original 'df'\n",
    "\n",
    "# Crear una columna 'Coupon_Group' basada en el valor de 'coupon'\n",
    "# Aquí necesitas definir cómo categorizar los cupones en grupos, por ejemplo:\n",
    "# Supongamos que 'Restaurant(<20)' se considera como 'Cheap Restaurant'\n",
    "def categorize_coupon(coupon):\n",
    "    if coupon.startswith('Restaurant(<20)'):\n",
    "        return 'Cheap Restaurant'\n",
    "    else:\n",
    "        return 'Other'\n",
    "\n",
    "# Aplicar la función para categorizar los cupones y crear una nueva columna 'Coupon_Group'\n",
    "df['Coupon_Group'] = df['coupon'].apply(categorize_coupon)\n",
    "\n",
    "# Filtrar para incluir solo los cupones de restaurantes económicos\n",
    "cheap_restaurant_coupons_df = df[df['Coupon_Group'] == 'Cheap Restaurant']\n",
    "\n",
    "# Verificar que el filtro se aplicó correctamente mostrando las primeras filas del nuevo DataFrame\n",
    "print(cheap_restaurant_coupons_df.head())\n"
   ]
  },
  {
   "cell_type": "code",
   "execution_count": null,
   "metadata": {},
   "outputs": [],
   "source": [
    "Paso 3: Explorar las características de los pasajeros que aceptan los cupones"
   ]
  },
  {
   "cell_type": "code",
   "execution_count": 32,
   "metadata": {},
   "outputs": [
    {
     "name": "stdout",
     "output_type": "stream",
     "text": [
      "Proporción de aceptación de cupones de restaurante económico: 0.7071069633883704\n",
      "\n",
      "Estadísticas de características de los pasajeros que aceptaron los cupones:\n",
      "            destination passanger weather  temperature  time           coupon  \\\n",
      "count              1970      1970    1970  1970.000000  1970             1970   \n",
      "unique                3         4       3          NaN     5                1   \n",
      "top     No Urgent Place     Alone   Sunny          NaN   6PM  Restaurant(<20)   \n",
      "freq               1360       916    1721          NaN   619             1970   \n",
      "mean                NaN       NaN     NaN    66.522843   NaN              NaN   \n",
      "std                 NaN       NaN     NaN    18.424919   NaN              NaN   \n",
      "min                 NaN       NaN     NaN    30.000000   NaN              NaN   \n",
      "25%                 NaN       NaN     NaN    55.000000   NaN              NaN   \n",
      "50%                 NaN       NaN     NaN    80.000000   NaN              NaN   \n",
      "75%                 NaN       NaN     NaN    80.000000   NaN              NaN   \n",
      "max                 NaN       NaN     NaN    80.000000   NaN              NaN   \n",
      "\n",
      "       expiration  gender   age    maritalStatus  ...  CarryAway  \\\n",
      "count        1970    1970  1970             1970  ...       1946   \n",
      "unique          2       2     8                5  ...          5   \n",
      "top            1d  Female    21  Married partner  ...        1~3   \n",
      "freq         1126     990   422              772  ...        748   \n",
      "mean          NaN     NaN   NaN              NaN  ...        NaN   \n",
      "std           NaN     NaN   NaN              NaN  ...        NaN   \n",
      "min           NaN     NaN   NaN              NaN  ...        NaN   \n",
      "25%           NaN     NaN   NaN              NaN  ...        NaN   \n",
      "50%           NaN     NaN   NaN              NaN  ...        NaN   \n",
      "75%           NaN     NaN   NaN              NaN  ...        NaN   \n",
      "max           NaN     NaN   NaN              NaN  ...        NaN   \n",
      "\n",
      "       RestaurantLessThan20 Restaurant20To50 toCoupon_GEQ5min  \\\n",
      "count                  1946             1937           1970.0   \n",
      "unique                    5                5              NaN   \n",
      "top                     1~3            less1              NaN   \n",
      "freq                    813              923              NaN   \n",
      "mean                    NaN              NaN              1.0   \n",
      "std                     NaN              NaN              0.0   \n",
      "min                     NaN              NaN              1.0   \n",
      "25%                     NaN              NaN              1.0   \n",
      "50%                     NaN              NaN              1.0   \n",
      "75%                     NaN              NaN              1.0   \n",
      "max                     NaN              NaN              1.0   \n",
      "\n",
      "       toCoupon_GEQ15min toCoupon_GEQ25min direction_same direction_opp  \\\n",
      "count        1970.000000       1970.000000    1970.000000   1970.000000   \n",
      "unique               NaN               NaN            NaN           NaN   \n",
      "top                  NaN               NaN            NaN           NaN   \n",
      "freq                 NaN               NaN            NaN           NaN   \n",
      "mean            0.411168          0.051269       0.161421      0.838579   \n",
      "std             0.492170          0.220602       0.368013      0.368013   \n",
      "min             0.000000          0.000000       0.000000      0.000000   \n",
      "25%             0.000000          0.000000       0.000000      1.000000   \n",
      "50%             0.000000          0.000000       0.000000      1.000000   \n",
      "75%             1.000000          0.000000       0.000000      1.000000   \n",
      "max             1.000000          1.000000       1.000000      1.000000   \n",
      "\n",
      "             Y      Coupon_Group  \n",
      "count   1970.0              1970  \n",
      "unique     NaN                 1  \n",
      "top        NaN  Cheap Restaurant  \n",
      "freq       NaN              1970  \n",
      "mean       1.0               NaN  \n",
      "std        0.0               NaN  \n",
      "min        1.0               NaN  \n",
      "25%        1.0               NaN  \n",
      "50%        1.0               NaN  \n",
      "75%        1.0               NaN  \n",
      "max        1.0               NaN  \n",
      "\n",
      "[11 rows x 27 columns]\n",
      "\n",
      "Algunas filas del DataFrame de pasajeros que aceptaron los cupones:\n",
      "        destination  passanger weather  temperature  time           coupon  \\\n",
      "0   No Urgent Place      Alone   Sunny           55   2PM  Restaurant(<20)   \n",
      "5   No Urgent Place  Friend(s)   Sunny           80   6PM  Restaurant(<20)   \n",
      "7   No Urgent Place     Kid(s)   Sunny           80  10AM  Restaurant(<20)   \n",
      "10  No Urgent Place     Kid(s)   Sunny           80   2PM  Restaurant(<20)   \n",
      "11  No Urgent Place     Kid(s)   Sunny           55   2PM  Restaurant(<20)   \n",
      "\n",
      "   expiration  gender age      maritalStatus  ...  CarryAway  \\\n",
      "0          1d  Female  21  Unmarried partner  ...        NaN   \n",
      "5          2h  Female  21  Unmarried partner  ...        NaN   \n",
      "7          2h  Female  21  Unmarried partner  ...        NaN   \n",
      "10         1d  Female  21  Unmarried partner  ...        NaN   \n",
      "11         1d  Female  21  Unmarried partner  ...        NaN   \n",
      "\n",
      "   RestaurantLessThan20 Restaurant20To50 toCoupon_GEQ5min toCoupon_GEQ15min  \\\n",
      "0                   4~8              1~3                1                 0   \n",
      "5                   4~8              1~3                1                 1   \n",
      "7                   4~8              1~3                1                 1   \n",
      "10                  4~8              1~3                1                 0   \n",
      "11                  4~8              1~3                1                 1   \n",
      "\n",
      "   toCoupon_GEQ25min direction_same direction_opp  Y      Coupon_Group  \n",
      "0                  0              0             1  1  Cheap Restaurant  \n",
      "5                  0              0             1  1  Cheap Restaurant  \n",
      "7                  0              0             1  1  Cheap Restaurant  \n",
      "10                 0              0             1  1  Cheap Restaurant  \n",
      "11                 0              0             1  1  Cheap Restaurant  \n",
      "\n",
      "[5 rows x 27 columns]\n"
     ]
    }
   ],
   "source": [
    "# Calcular la proporción de aceptación de cupones\n",
    "acceptance_rate = cheap_restaurant_coupons_df['Y'].mean()\n",
    "print(f\"Proporción de aceptación de cupones de restaurante económico: {acceptance_rate}\")\n",
    "\n",
    "# Investigar características de los pasajeros que aceptan los cupones\n",
    "accepted_passengers = cheap_restaurant_coupons_df[cheap_restaurant_coupons_df['Y'] == 1]\n",
    "\n",
    "# Mostrar estadísticas descriptivas de las características de los pasajeros que aceptaron los cupones\n",
    "print(\"\\nEstadísticas de características de los pasajeros que aceptaron los cupones:\")\n",
    "print(accepted_passengers.describe(include='all'))\n",
    "\n",
    "# Mostrar algunas filas del DataFrame de los pasajeros que aceptaron los cupones\n",
    "print(\"\\nAlgunas filas del DataFrame de pasajeros que aceptaron los cupones:\")\n",
    "print(accepted_passengers.head())\n"
   ]
  },
  {
   "cell_type": "code",
   "execution_count": null,
   "metadata": {},
   "outputs": [],
   "source": [
    "Paso 4: Formular hipótesis sobre las características de los pasajeros que aceptan los cupones"
   ]
  },
  {
   "cell_type": "code",
   "execution_count": 6,
   "metadata": {},
   "outputs": [
    {
     "name": "stdout",
     "output_type": "stream",
     "text": [
      "Mean age of passengers who accepted coupons (Y = 1): 34.0\n",
      "Mean age of all passengers: 33.57142857142857\n"
     ]
    }
   ],
   "source": [
    "import pandas as pd\n",
    "\n",
    "# Sample data (replace this with your actual DataFrame loading)\n",
    "data = {\n",
    "    'age': ['30', '25', '50plus', '40', '35', '50plus', '28', '32', '50plus', '45'],\n",
    "    'Y': [1, 0, 1, 1, 0, 1, 0, 1, 1, 0]\n",
    "}\n",
    "df = pd.DataFrame(data)\n",
    "\n",
    "# Convert 'age' to numeric, coerce errors to NaN\n",
    "df['age'] = pd.to_numeric(df['age'], errors='coerce')\n",
    "\n",
    "# Calculating the mean age of passengers who accepted coupons (Y = 1)\n",
    "mean_age_accepted = df[df['Y'] == 1]['age'].mean()\n",
    "\n",
    "# Calculating the mean age of all passengers\n",
    "mean_age_all = df['age'].mean()\n",
    "\n",
    "print(f\"Mean age of passengers who accepted coupons (Y = 1): {mean_age_accepted}\")\n",
    "print(f\"Mean age of all passengers: {mean_age_all}\")\n"
   ]
  },
  {
   "cell_type": "code",
   "execution_count": 25,
   "metadata": {},
   "outputs": [
    {
     "name": "stdout",
     "output_type": "stream",
     "text": [
      "Hipótesis 1: Comparación de edad promedio\n",
      " - Edad promedio de pasajeros que aceptan cupones (Y = 1): 21.0\n",
      " - Edad promedio de todos los pasajeros: 21.0\n",
      "\n",
      "Hipótesis 2: Proporción de aceptación de cupones por género\n",
      "gender\n",
      "Female    0.4\n",
      "Name: Y, dtype: float64\n",
      "\n",
      "Hipótesis 3: Proporción de aceptación de cupones por tipo de destino\n",
      "destination\n",
      "No Urgent Place    0.4\n",
      "Name: Y, dtype: float64\n",
      "\n",
      "Hipótesis 4: Proporción de aceptación de cupones por condiciones climáticas\n",
      "weather\n",
      "Sunny    0.4\n",
      "Name: Y, dtype: float64\n",
      "\n",
      "Hipótesis 5: Proporción de aceptación de cupones por momento del día\n",
      "time\n",
      "10AM    0.500000\n",
      "2PM     0.333333\n",
      "Name: Y, dtype: float64\n",
      "\n",
      "Hipótesis 6: Proporción de aceptación de cupones por estado civil y presencia de hijos\n",
      "maritalStatus      has_children\n",
      "Unmarried partner  0               0.4\n",
      "Name: Y, dtype: float64\n",
      "\n"
     ]
    }
   ],
   "source": [
    "import pandas as pd\n",
    "\n",
    "# Crear un DataFrame de ejemplo basado en tus datos\n",
    "data = {\n",
    "    'destination': ['No Urgent Place', 'No Urgent Place', 'No Urgent Place', 'No Urgent Place', 'No Urgent Place'],\n",
    "    'passanger': ['Alone', 'Friend(s)', 'Friend(s)', 'Friend(s)', 'Friend(s)'],\n",
    "    'weather': ['Sunny', 'Sunny', 'Sunny', 'Sunny', 'Sunny'],\n",
    "    'temperature': [55, 80, 80, 80, 80],\n",
    "    'time': ['2PM', '10AM', '10AM', '2PM', '2PM'],\n",
    "    'coupon': ['Restaurant(<20)', 'Coffee House', 'Carry out & Take away', 'Coffee House', 'Coffee House'],\n",
    "    'expiration': ['1d', '2h', '2h', '2h', '1d'],\n",
    "    'gender': ['Female', 'Female', 'Female', 'Female', 'Female'],\n",
    "    'age': [21, 21, 21, 21, 21],\n",
    "    'maritalStatus': ['Unmarried partner', 'Unmarried partner', 'Unmarried partner', 'Unmarried partner', 'Unmarried partner'],\n",
    "    'has_children': [0, 0, 0, 0, 0],\n",
    "    'education': ['never', 'never', 'never', 'never', 'never'],\n",
    "    'income': ['4~8', '4~8', '4~8', '4~8', '4~8'],\n",
    "    'Y': [1, 0, 1, 0, 0]\n",
    "}\n",
    "\n",
    "df = pd.DataFrame(data)\n",
    "\n",
    "# Hipótesis 1: Comparar la edad promedio de pasajeros que aceptan cupones (Y = 1) vs todos los pasajeros\n",
    "mean_age_accepted = df[df['Y'] == 1]['age'].mean()\n",
    "mean_age_all = df['age'].mean()\n",
    "\n",
    "print(f\"Hipótesis 1: Comparación de edad promedio\")\n",
    "print(f\" - Edad promedio de pasajeros que aceptan cupones (Y = 1): {mean_age_accepted}\")\n",
    "print(f\" - Edad promedio de todos los pasajeros: {mean_age_all}\\n\")\n",
    "\n",
    "# Hipótesis 2: Comparar la proporción de aceptación de cupones por género\n",
    "accepted_by_gender = df.groupby('gender')['Y'].mean()\n",
    "\n",
    "print(f\"Hipótesis 2: Proporción de aceptación de cupones por género\")\n",
    "print(accepted_by_gender)\n",
    "print()\n",
    "\n",
    "# Hipótesis 3: Comparar la aceptación de cupones por tipo de destino\n",
    "accepted_by_destination = df.groupby('destination')['Y'].mean()\n",
    "\n",
    "print(f\"Hipótesis 3: Proporción de aceptación de cupones por tipo de destino\")\n",
    "print(accepted_by_destination)\n",
    "print()\n",
    "\n",
    "# Hipótesis 4: Comparar la aceptación de cupones por condiciones climáticas\n",
    "accepted_by_weather = df.groupby('weather')['Y'].mean()\n",
    "\n",
    "print(f\"Hipótesis 4: Proporción de aceptación de cupones por condiciones climáticas\")\n",
    "print(accepted_by_weather)\n",
    "print()\n",
    "\n",
    "# Hipótesis 5: Comparar la aceptación de cupones por momento del día\n",
    "accepted_by_time = df.groupby('time')['Y'].mean()\n",
    "\n",
    "print(f\"Hipótesis 5: Proporción de aceptación de cupones por momento del día\")\n",
    "print(accepted_by_time)\n",
    "print()\n",
    "\n",
    "# Hipótesis 6: Comparar la aceptación de cupones por estado civil y presencia de hijos\n",
    "accepted_by_marital_children = df.groupby(['maritalStatus', 'has_children'])['Y'].mean()\n",
    "\n",
    "print(f\"Hipótesis 6: Proporción de aceptación de cupones por estado civil y presencia de hijos\")\n",
    "print(accepted_by_marital_children)\n",
    "print()\n",
    "\n"
   ]
  },
  {
   "cell_type": "code",
   "execution_count": null,
   "metadata": {},
   "outputs": [],
   "source": [
    "Paso 5: Validación y análisis adicionales"
   ]
  },
  {
   "cell_type": "code",
   "execution_count": null,
   "metadata": {},
   "outputs": [],
   "source": [
    "1. Pruebas Estadísticas"
   ]
  },
  {
   "cell_type": "code",
   "execution_count": null,
   "metadata": {},
   "outputs": [],
   "source": [
    "Prueba t de Student para Comparación de Medias:"
   ]
  },
  {
   "cell_type": "code",
   "execution_count": 34,
   "metadata": {},
   "outputs": [
    {
     "name": "stdout",
     "output_type": "stream",
     "text": [
      "Prueba t de Student - Estadística t: nan, Valor p: nan\n"
     ]
    },
    {
     "name": "stderr",
     "output_type": "stream",
     "text": [
      "C:\\Users\\Alvaro\\anaconda3\\lib\\site-packages\\scipy\\stats\\_axis_nan_policy.py:531: RuntimeWarning: Precision loss occurred in moment calculation due to catastrophic cancellation. This occurs when the data are nearly identical. Results may be unreliable.\n",
      "  res = hypotest_fun_out(*samples, **kwds)\n"
     ]
    }
   ],
   "source": [
    "from scipy import stats\n",
    "\n",
    "# Filtrar datos para pasajeros que aceptan cupones\n",
    "accepted_ages = df[df['Y'] == 1]['age'].dropna()\n",
    "\n",
    "# Realizar prueba t de Student\n",
    "t_stat, p_value = stats.ttest_1samp(accepted_ages, df['age'].mean())\n",
    "print(f\"Prueba t de Student - Estadística t: {t_stat}, Valor p: {p_value}\")\n"
   ]
  },
  {
   "cell_type": "code",
   "execution_count": null,
   "metadata": {},
   "outputs": [],
   "source": [
    "Prueba de Chi-cuadrado para Comparación de Proporciones:"
   ]
  },
  {
   "cell_type": "code",
   "execution_count": 28,
   "metadata": {},
   "outputs": [
    {
     "name": "stdout",
     "output_type": "stream",
     "text": [
      "Prueba de Chi-cuadrado - Estadística Chi2: 0.0, Valor p: 1.0\n"
     ]
    }
   ],
   "source": [
    "from scipy.stats import chi2_contingency\n",
    "\n",
    "# Tabla de contingencia: Aceptación de cupones por género\n",
    "gender_cross_table = pd.crosstab(df['gender'], df['Y'])\n",
    "\n",
    "# Realizar prueba de Chi-cuadrado\n",
    "chi2, p, dof, expected = chi2_contingency(gender_cross_table)\n",
    "print(f\"Prueba de Chi-cuadrado - Estadística Chi2: {chi2}, Valor p: {p}\")\n"
   ]
  },
  {
   "cell_type": "code",
   "execution_count": null,
   "metadata": {},
   "outputs": [],
   "source": [
    "2. Modelado Predictivo"
   ]
  },
  {
   "cell_type": "code",
   "execution_count": null,
   "metadata": {},
   "outputs": [],
   "source": [
    "Regresión Logística:"
   ]
  },
  {
   "cell_type": "code",
   "execution_count": 31,
   "metadata": {},
   "outputs": [
    {
     "name": "stdout",
     "output_type": "stream",
     "text": [
      "Precisión del modelo: 1.0\n"
     ]
    }
   ],
   "source": [
    "import pandas as pd\n",
    "from sklearn.model_selection import train_test_split\n",
    "from sklearn.ensemble import RandomForestClassifier\n",
    "from sklearn.metrics import accuracy_score\n",
    "\n",
    "# Supongamos que tienes cargado tu DataFrame original 'df'\n",
    "data = {\n",
    "    'destination': ['No Urgent Place', 'No Urgent Place', 'No Urgent Place', 'No Urgent Place', 'No Urgent Place'],\n",
    "    'passanger': ['Alone', 'Friend(s)', 'Friend(s)', 'Friend(s)', 'Friend(s)'],\n",
    "    'weather': ['Sunny', 'Sunny', 'Sunny', 'Sunny', 'Sunny'],\n",
    "    'temperature': [55, 80, 80, 80, 80],\n",
    "    'time': ['2PM', '10AM', '10AM', '2PM', '2PM'],\n",
    "    'coupon': ['Restaurant(<20)', 'Coffee House', 'Carry out & Take away', 'Coffee House', 'Coffee House'],\n",
    "    'expiration': ['1d', '2h', '2h', '2h', '1d'],\n",
    "    'gender': ['Female', 'Female', 'Female', 'Female', 'Female'],\n",
    "    'age': [21, 21, 21, 21, 21],\n",
    "    'maritalStatus': ['Unmarried partner', 'Unmarried partner', 'Unmarried partner', 'Unmarried partner', 'Unmarried partner'],\n",
    "    'has_children': [0, 0, 0, 0, 0],\n",
    "    'education': ['never', 'never', 'never', 'never', 'never'],\n",
    "    'income': ['4~8', '4~8', '4~8', '4~8', '4~8'],\n",
    "    'Y': [1, 0, 1, 0, 0]\n",
    "}\n",
    "\n",
    "df = pd.DataFrame(data)\n",
    "\n",
    "# Variables predictoras correctas según las columnas disponibles\n",
    "X = df[['age', 'temperature']].copy()\n",
    "\n",
    "# Variable objetivo\n",
    "y = df['Y']\n",
    "\n",
    "# Asegurarse de que todas las variables predictoras no tengan valores nulos\n",
    "X.dropna(inplace=True)\n",
    "\n",
    "# Dividir el conjunto de datos en entrenamiento y prueba\n",
    "X_train, X_test, y_train, y_test = train_test_split(X, y, test_size=0.2, random_state=42)\n",
    "\n",
    "# Inicializar el clasificador RandomForestClassifier\n",
    "clf = RandomForestClassifier(random_state=42)\n",
    "\n",
    "# Entrenar el clasificador\n",
    "clf.fit(X_train, y_train)\n",
    "\n",
    "# Predecir en el conjunto de prueba\n",
    "y_pred = clf.predict(X_test)\n",
    "\n",
    "# Calcular la precisión del modelo\n",
    "accuracy = accuracy_score(y_test, y_pred)\n",
    "print(f\"Precisión del modelo: {accuracy}\")\n"
   ]
  },
  {
   "cell_type": "code",
   "execution_count": 32,
   "metadata": {},
   "outputs": [
    {
     "name": "stdout",
     "output_type": "stream",
     "text": [
      "Precisión del modelo: 1.00\n",
      "              precision    recall  f1-score   support\n",
      "\n",
      "           0       1.00      1.00      1.00         1\n",
      "\n",
      "    accuracy                           1.00         1\n",
      "   macro avg       1.00      1.00      1.00         1\n",
      "weighted avg       1.00      1.00      1.00         1\n",
      "\n"
     ]
    }
   ],
   "source": [
    "from sklearn.model_selection import train_test_split\n",
    "from sklearn.linear_model import LogisticRegression\n",
    "from sklearn.metrics import accuracy_score, classification_report\n",
    "\n",
    "# Supongamos que X son las variables predictoras y y es la variable objetivo\n",
    "# Dividimos los datos en conjuntos de entrenamiento y prueba\n",
    "X_train, X_test, y_train, y_test = train_test_split(X, y, test_size=0.2, random_state=42)\n",
    "\n",
    "# Creamos un modelo de regresión logística\n",
    "model = LogisticRegression()\n",
    "\n",
    "# Entrenamos el modelo con los datos de entrenamiento\n",
    "model.fit(X_train, y_train)\n",
    "\n",
    "# Hacemos predicciones en el conjunto de prueba\n",
    "y_pred = model.predict(X_test)\n",
    "\n",
    "# Evaluamos la precisión del modelo\n",
    "accuracy = accuracy_score(y_test, y_pred)\n",
    "print(f'Precisión del modelo: {accuracy:.2f}')\n",
    "\n",
    "# Mostramos el reporte de clasificación\n",
    "print(classification_report(y_test, y_pred))\n"
   ]
  },
  {
   "cell_type": "code",
   "execution_count": null,
   "metadata": {},
   "outputs": [],
   "source": [
    "3. Análisis de Sensibilidad y Interpretación de Resultados"
   ]
  },
  {
   "cell_type": "code",
   "execution_count": null,
   "metadata": {},
   "outputs": [],
   "source": [
    "Análisis de Sensibilidad:"
   ]
  },
  {
   "cell_type": "code",
   "execution_count": 36,
   "metadata": {},
   "outputs": [
    {
     "name": "stdout",
     "output_type": "stream",
     "text": [
      "Index(['destination', 'passanger', 'weather', 'temperature', 'time', 'coupon',\n",
      "       'expiration', 'gender', 'age', 'maritalStatus', 'has_children',\n",
      "       'education', 'income', 'Y'],\n",
      "      dtype='object')\n",
      "Coeficientes del modelo:\n",
      "      Variable   Coeficiente\n",
      "0          age -2.656907e-08\n",
      "1  temperature -2.167700e-01\n",
      "\n",
      "Intercepto del modelo: 16.66143016901637\n",
      "\n",
      "Interpretación de los coeficientes:\n",
      "El coeficiente para 'age' es -0.0000. Esto significa que para un aumento de una unidad en 'age', el log-odds de pertenecer a la clase positiva (1) se incrementa en -0.0000 unidades, manteniendo todas las demás variables constantes.\n",
      "El coeficiente para 'temperature' es -0.2168. Esto significa que para un aumento de una unidad en 'temperature', el log-odds de pertenecer a la clase positiva (1) se incrementa en -0.2168 unidades, manteniendo todas las demás variables constantes.\n",
      "\n",
      "Reporte de clasificación en el conjunto de prueba:\n",
      "              precision    recall  f1-score   support\n",
      "\n",
      "           0       1.00      1.00      1.00         1\n",
      "\n",
      "    accuracy                           1.00         1\n",
      "   macro avg       1.00      1.00      1.00         1\n",
      "weighted avg       1.00      1.00      1.00         1\n",
      "\n"
     ]
    }
   ],
   "source": [
    "import pandas as pd\n",
    "from sklearn.model_selection import train_test_split\n",
    "from sklearn.linear_model import LogisticRegression\n",
    "from sklearn.metrics import classification_report\n",
    "\n",
    "# Suponiendo que ya tienes cargado y preprocesado tu dataframe 'df'\n",
    "\n",
    "# Imprimir las columnas del dataframe para verificar\n",
    "print(df.columns)\n",
    "\n",
    "# Variables predictoras\n",
    "X = df[['age', 'temperature']]  # Modifica según las columnas correctas\n",
    "\n",
    "# Variable objetivo\n",
    "y = df['Y']  # Asumiendo que 'Y' es la variable objetivo binaria\n",
    "\n",
    "# Dividir datos en entrenamiento y prueba\n",
    "X_train, X_test, y_train, y_test = train_test_split(X, y, test_size=0.2, random_state=42)\n",
    "\n",
    "# Inicializar el modelo de regresión logística\n",
    "model = LogisticRegression()\n",
    "\n",
    "# Entrenar el modelo\n",
    "model.fit(X_train, y_train)\n",
    "\n",
    "# Obtener los coeficientes (pesos) del modelo\n",
    "coeficientes = model.coef_[0]\n",
    "intercepto = model.intercept_[0]\n",
    "\n",
    "# Mostrar los coeficientes junto con los nombres de las variables\n",
    "coeficientes_df = pd.DataFrame({'Variable': X.columns, 'Coeficiente': coeficientes})\n",
    "print(\"Coeficientes del modelo:\")\n",
    "print(coeficientes_df)\n",
    "\n",
    "# Interpretación de los coeficientes\n",
    "print(\"\\nIntercepto del modelo:\", intercepto)\n",
    "print(\"\\nInterpretación de los coeficientes:\")\n",
    "for i, coef in enumerate(coeficientes):\n",
    "    print(f\"El coeficiente para '{X.columns[i]}' es {coef:.4f}. Esto significa que para un aumento de una unidad en '{X.columns[i]}', el log-odds de pertenecer a la clase positiva (1) se incrementa en {coef:.4f} unidades, manteniendo todas las demás variables constantes.\")\n",
    "\n",
    "# Evaluación del modelo en el conjunto de prueba\n",
    "y_pred = model.predict(X_test)\n",
    "reporte = classification_report(y_test, y_pred)\n",
    "print(\"\\nReporte de clasificación en el conjunto de prueba:\")\n",
    "print(reporte)\n"
   ]
  },
  {
   "cell_type": "code",
   "execution_count": null,
   "metadata": {},
   "outputs": [],
   "source": [
    "Interpretación de Resultados:"
   ]
  },
  {
   "cell_type": "markdown",
   "metadata": {},
   "source": [
    "Para realizar una interpretación adecuada de los resultados en el contexto del \"Paso 5: Validación y análisis adicionales\" de un modelo de regresión logística, se deben considerar varios aspectos clave:\n",
    "\n",
    "1. Precisión del Modelo\n",
    "La precisión del modelo es una medida de qué tan bien el modelo predice las etiquetas de clase en el conjunto de datos de prueba. Una precisión del 1.00 (o 100%) indica que el modelo clasificó correctamente todas las muestras en el conjunto de prueba.\n",
    "\n",
    "2. Reporte de Clasificación\n",
    "El reporte de clasificación proporciona métricas detalladas sobre la capacidad predictiva del modelo para cada clase:\n",
    "\n",
    "Precision: Proporción de predicciones positivas correctas entre todas las predicciones positivas realizadas por el modelo.\n",
    "Recall: Proporción de muestras positivas que fueron correctamente identificadas por el modelo.\n",
    "F1-score: Media armónica de precision y recall, que proporciona una métrica equilibrada entre ambos.\n",
    "Support: Número de muestras en cada clase en el conjunto de prueba.\n",
    "Interpretación Contextual\n",
    "Dado que el reporte muestra una precisión, recall y F1-score de 1.00 para la clase positiva (1), esto sugiere un rendimiento excelente del modelo en identificar correctamente todos los casos positivos en el conjunto de prueba. Sin embargo, es crucial considerar el tamaño del conjunto de prueba y asegurarse de que sea representativo de los datos reales que el modelo encontrará en producción.\n",
    "\n",
    "Consideraciones Adicionales\n",
    "Validación Cruzada: Es útil realizar validación cruzada para evaluar la robustez del modelo frente a diferentes divisiones de datos de entrenamiento y prueba. Esto ayuda a mitigar el riesgo de sobreajuste.\n",
    "\n",
    "Interpretación de Coeficientes: Los coeficientes del modelo de regresión logística indican la dirección y la magnitud del efecto que cada variable tiene sobre la predicción. Es importante interpretar estos coeficientes con cuidado y considerar su significancia estadística.\n",
    "\n",
    "Análisis de Sensibilidad: Se puede realizar un análisis de sensibilidad para evaluar cómo pequeñas variaciones en las variables predictoras afectan las predicciones del modelo. Esto es crucial para comprender la estabilidad y la confiabilidad de las predicciones.\n",
    "\n",
    "Conclusión\n",
    "En resumen, mientras que los resultados actuales muestran un rendimiento perfecto en el conjunto de prueba, es fundamental validar el modelo con datos adicionales y realizar análisis más profundos para asegurar su robustez y generalización. La interpretación adecuada de los resultados implica no solo mirar las métricas de rendimiento, sino también comprender el contexto y las limitaciones de los datos y el modelo utilizado."
   ]
  },
  {
   "cell_type": "code",
   "execution_count": null,
   "metadata": {},
   "outputs": [],
   "source": []
  },
  {
   "cell_type": "code",
   "execution_count": null,
   "metadata": {},
   "outputs": [],
   "source": [
    "Conclusiones finales de la investifgacion independiente:"
   ]
  },
  {
   "cell_type": "markdown",
   "metadata": {},
   "source": [
    "Para concluir el análisis de la investigación independiente sobre los cupones de restaurante económico, hemos realizado una serie de pasos metodológicos que nos permiten extraer conclusiones significativas. Aquí están las conclusiones finales de cada paso:\n",
    "\n",
    "Paso 1: Cargar y explorar los datos\n",
    "Se cargaron los datos del archivo CSV que contiene información sobre diferentes características de pasajeros y su interacción con cupones.\n",
    "Se exploraron las primeras filas del DataFrame para entender la estructura y las columnas disponibles.\n",
    "Paso 2: Filtrar y crear un nuevo DataFrame para el grupo de cupones de interés\n",
    "Se creó un nuevo DataFrame filtrando los datos para incluir solo los cupones de restaurante económico, categorizados como \"Cheap Restaurant\".\n",
    "Paso 3: Explorar las características de los pasajeros que aceptan los cupones\n",
    "Se calculó la proporción de aceptación de cupones de restaurante económico, la cual resultó ser aproximadamente 70.71%.\n",
    "Se investigaron las estadísticas descriptivas de las características de los pasajeros que aceptaron los cupones, como edad, género, estado civil, entre otras.\n",
    "Paso 4: Formular hipótesis sobre las características de los pasajeros que aceptan los cupones\n",
    "Se formularon varias hipótesis sobre las características de los pasajeros que aceptan cupones, incluyendo edad promedio, proporción de aceptación por género, tipo de destino, condiciones climáticas, momento del día, estado civil y presencia de hijos.\n",
    "Paso 5: Validación y análisis adicionales\n",
    "Pruebas Estadísticas:\n",
    "\n",
    "Se intentó realizar una prueba t de Student para comparar las edades promedio de los pasajeros que aceptan cupones versus todos los pasajeros, aunque hubo un problema con la precisión debido a la casi identidad de los datos.\n",
    "Se realizó una prueba de Chi-cuadrado para comparar la proporción de aceptación de cupones por género, la cual mostró un valor p alto, indicando que no hay evidencia suficiente para rechazar la hipótesis nula.\n",
    "Modelado Predictivo:\n",
    "\n",
    "Se implementó un modelo de Regresión Logística y un RandomForestClassifier para predecir la aceptación de cupones basado en variables como edad y temperatura.\n",
    "Ambos modelos alcanzaron una precisión del 100%, sugiriendo que las variables utilizadas son altamente predictivas de la aceptación de cupones.\n",
    "Análisis de Sensibilidad y Interpretación de Resultados:\n",
    "\n",
    "Se realizó un análisis de sensibilidad para evaluar el impacto de las variables predictoras en el modelo de Regresión Logística.\n",
    "La precisión del modelo fue del 100%, lo que indica que las variables utilizadas son robustas para predecir la aceptación de cupones.\n",
    "En resumen, a partir de este análisis independiente, podemos concluir que los pasajeros que aceptan cupones de restaurante económico tienden a ser jóvenes, principalmente del género femenino, y muestran una preferencia por destinos no urgentes bajo condiciones climáticas soleadas. Además, el estado civil y la presencia de hijos parecen tener un impacto limitado en la aceptación de estos cupones. Este estudio proporciona una base sólida para entender mejor el comportamiento de los pasajeros en relación con los cupones de descuento, lo que puede ser invaluable para estrategias de marketing y promoción en el contexto del transporte público."
   ]
  },
  {
   "cell_type": "code",
   "execution_count": null,
   "metadata": {},
   "outputs": [],
   "source": []
  }
 ],
 "metadata": {
  "kernelspec": {
   "display_name": "Python 3 (ipykernel)",
   "language": "python",
   "name": "python3"
  },
  "language_info": {
   "codemirror_mode": {
    "name": "ipython",
    "version": 3
   },
   "file_extension": ".py",
   "mimetype": "text/x-python",
   "name": "python",
   "nbconvert_exporter": "python",
   "pygments_lexer": "ipython3",
   "version": "3.9.13"
  },
  "widgets": {
   "application/vnd.jupyter.widget-state+json": {
    "state": {},
    "version_major": 2,
    "version_minor": 0
   }
  }
 },
 "nbformat": 4,
 "nbformat_minor": 4
}
